{
 "cells": [
  {
   "cell_type": "markdown",
   "id": "984f33f3",
   "metadata": {},
   "source": [
    "# BUSINESS PROBLEM :"
   ]
  },
  {
   "cell_type": "markdown",
   "id": "16ef31aa",
   "metadata": {},
   "source": [
    "Employee turnover in human resources refers to the gradual loss of employees over time. In general, relatively high attrition is problematic for companies. HR professionals often assume a leadership role in designing company compensation programs, work culture and motivation systems that help the organization retain top employees.”"
   ]
  },
  {
   "cell_type": "markdown",
   "id": "b6aa44c4",
   "metadata": {},
   "source": [
    "# OBJECTIVE:"
   ]
  },
  {
   "cell_type": "markdown",
   "id": "794156dc",
   "metadata": {},
   "source": [
    "Our role is to uncover the factors that lead to employee attrition through Exploratory Data Analysis, and explore them by using various classification models to predict if an employee is likely to quit. This could greatly increase the HR’s ability to intervene on time and remedy the situation to prevent attrition."
   ]
  },
  {
   "cell_type": "markdown",
   "id": "1e1b9795",
   "metadata": {},
   "source": [
    "# IMPORTING LIBRARIES:"
   ]
  },
  {
   "cell_type": "code",
   "execution_count": 1,
   "id": "b70d3d6b",
   "metadata": {},
   "outputs": [],
   "source": [
    "import pandas as pd\n",
    "import numpy as np\n",
    "import matplotlib.pyplot as plt\n",
    "import seaborn as sns\n",
    "from sklearn.model_selection import train_test_split \n",
    "from sklearn.metrics import accuracy_score,confusion_matrix,classification_report"
   ]
  },
  {
   "cell_type": "markdown",
   "id": "7a0078c7",
   "metadata": {},
   "source": [
    " # Importing Dataset From Database Using SQL:\n"
   ]
  },
  {
   "cell_type": "code",
   "execution_count": 2,
   "id": "fb2fc7d7",
   "metadata": {},
   "outputs": [],
   "source": [
    "import mysql.connector as mysql"
   ]
  },
  {
   "cell_type": "code",
   "execution_count": 3,
   "id": "1db8348c",
   "metadata": {},
   "outputs": [],
   "source": [
    "db=mysql.connect(host=\"localhost\",user=\"root\",password=\"A@kash2211\",database=\"capstone\", auth_plugin='mysql_native_password')"
   ]
  },
  {
   "cell_type": "code",
   "execution_count": 4,
   "id": "04745730",
   "metadata": {},
   "outputs": [
    {
     "name": "stdout",
     "output_type": "stream",
     "text": [
      "<mysql.connector.connection.MySQLConnection object at 0x0000025643D334C0>\n"
     ]
    }
   ],
   "source": [
    "print(db)"
   ]
  },
  {
   "cell_type": "code",
   "execution_count": 5,
   "id": "7af4a9e6",
   "metadata": {},
   "outputs": [],
   "source": [
    "myc=db.cursor()\n",
    "myc=db.cursor(buffered=True, dictionary=True)"
   ]
  },
  {
   "cell_type": "code",
   "execution_count": 6,
   "id": "72a95638",
   "metadata": {},
   "outputs": [],
   "source": [
    "myc.execute('SELECT * FROM capstone.`Project`')"
   ]
  },
  {
   "cell_type": "code",
   "execution_count": 7,
   "id": "8f6e97d3",
   "metadata": {},
   "outputs": [],
   "source": [
    "data=pd.DataFrame(myc.fetchall())"
   ]
  },
  {
   "cell_type": "code",
   "execution_count": 8,
   "id": "0e4eb30f",
   "metadata": {},
   "outputs": [
    {
     "data": {
      "text/html": [
       "<div>\n",
       "<style scoped>\n",
       "    .dataframe tbody tr th:only-of-type {\n",
       "        vertical-align: middle;\n",
       "    }\n",
       "\n",
       "    .dataframe tbody tr th {\n",
       "        vertical-align: top;\n",
       "    }\n",
       "\n",
       "    .dataframe thead th {\n",
       "        text-align: right;\n",
       "    }\n",
       "</style>\n",
       "<table border=\"1\" class=\"dataframe\">\n",
       "  <thead>\n",
       "    <tr style=\"text-align: right;\">\n",
       "      <th></th>\n",
       "      <th>Education</th>\n",
       "      <th>JoiningYear</th>\n",
       "      <th>City</th>\n",
       "      <th>PaymentTier</th>\n",
       "      <th>Age</th>\n",
       "      <th>Gender</th>\n",
       "      <th>EverBenched</th>\n",
       "      <th>ExperienceInCurrentDomain</th>\n",
       "      <th>Attrition</th>\n",
       "    </tr>\n",
       "  </thead>\n",
       "  <tbody>\n",
       "    <tr>\n",
       "      <th>0</th>\n",
       "      <td>Bachelors</td>\n",
       "      <td>2017</td>\n",
       "      <td>Bangalore</td>\n",
       "      <td>3</td>\n",
       "      <td>34</td>\n",
       "      <td>Male</td>\n",
       "      <td>No</td>\n",
       "      <td>0</td>\n",
       "      <td>0</td>\n",
       "    </tr>\n",
       "    <tr>\n",
       "      <th>1</th>\n",
       "      <td>Bachelors</td>\n",
       "      <td>2013</td>\n",
       "      <td>Pune</td>\n",
       "      <td>1</td>\n",
       "      <td>28</td>\n",
       "      <td>Female</td>\n",
       "      <td>No</td>\n",
       "      <td>3</td>\n",
       "      <td>1</td>\n",
       "    </tr>\n",
       "    <tr>\n",
       "      <th>2</th>\n",
       "      <td>Bachelors</td>\n",
       "      <td>2014</td>\n",
       "      <td>Chennai</td>\n",
       "      <td>3</td>\n",
       "      <td>38</td>\n",
       "      <td>Female</td>\n",
       "      <td>No</td>\n",
       "      <td>2</td>\n",
       "      <td>0</td>\n",
       "    </tr>\n",
       "    <tr>\n",
       "      <th>3</th>\n",
       "      <td>Masters</td>\n",
       "      <td>2016</td>\n",
       "      <td>Bangalore</td>\n",
       "      <td>3</td>\n",
       "      <td>27</td>\n",
       "      <td>Male</td>\n",
       "      <td>No</td>\n",
       "      <td>5</td>\n",
       "      <td>1</td>\n",
       "    </tr>\n",
       "    <tr>\n",
       "      <th>4</th>\n",
       "      <td>Masters</td>\n",
       "      <td>2017</td>\n",
       "      <td>Pune</td>\n",
       "      <td>3</td>\n",
       "      <td>24</td>\n",
       "      <td>Male</td>\n",
       "      <td>Yes</td>\n",
       "      <td>2</td>\n",
       "      <td>1</td>\n",
       "    </tr>\n",
       "    <tr>\n",
       "      <th>...</th>\n",
       "      <td>...</td>\n",
       "      <td>...</td>\n",
       "      <td>...</td>\n",
       "      <td>...</td>\n",
       "      <td>...</td>\n",
       "      <td>...</td>\n",
       "      <td>...</td>\n",
       "      <td>...</td>\n",
       "      <td>...</td>\n",
       "    </tr>\n",
       "    <tr>\n",
       "      <th>4648</th>\n",
       "      <td>Bachelors</td>\n",
       "      <td>2013</td>\n",
       "      <td>Bangalore</td>\n",
       "      <td>3</td>\n",
       "      <td>26</td>\n",
       "      <td>Female</td>\n",
       "      <td>No</td>\n",
       "      <td>4</td>\n",
       "      <td>0</td>\n",
       "    </tr>\n",
       "    <tr>\n",
       "      <th>4649</th>\n",
       "      <td>Masters</td>\n",
       "      <td>2013</td>\n",
       "      <td>Pune</td>\n",
       "      <td>2</td>\n",
       "      <td>37</td>\n",
       "      <td>Male</td>\n",
       "      <td>No</td>\n",
       "      <td>2</td>\n",
       "      <td>1</td>\n",
       "    </tr>\n",
       "    <tr>\n",
       "      <th>4650</th>\n",
       "      <td>Masters</td>\n",
       "      <td>2018</td>\n",
       "      <td>Chennai</td>\n",
       "      <td>3</td>\n",
       "      <td>27</td>\n",
       "      <td>Male</td>\n",
       "      <td>No</td>\n",
       "      <td>5</td>\n",
       "      <td>1</td>\n",
       "    </tr>\n",
       "    <tr>\n",
       "      <th>4651</th>\n",
       "      <td>Bachelors</td>\n",
       "      <td>2012</td>\n",
       "      <td>Bangalore</td>\n",
       "      <td>3</td>\n",
       "      <td>30</td>\n",
       "      <td>Male</td>\n",
       "      <td>Yes</td>\n",
       "      <td>2</td>\n",
       "      <td>0</td>\n",
       "    </tr>\n",
       "    <tr>\n",
       "      <th>4652</th>\n",
       "      <td>Bachelors</td>\n",
       "      <td>2015</td>\n",
       "      <td>Bangalore</td>\n",
       "      <td>3</td>\n",
       "      <td>33</td>\n",
       "      <td>Male</td>\n",
       "      <td>Yes</td>\n",
       "      <td>4</td>\n",
       "      <td>0</td>\n",
       "    </tr>\n",
       "  </tbody>\n",
       "</table>\n",
       "<p>4653 rows × 9 columns</p>\n",
       "</div>"
      ],
      "text/plain": [
       "      Education  JoiningYear       City  PaymentTier  Age  Gender EverBenched  \\\n",
       "0     Bachelors         2017  Bangalore            3   34    Male          No   \n",
       "1     Bachelors         2013       Pune            1   28  Female          No   \n",
       "2     Bachelors         2014    Chennai            3   38  Female          No   \n",
       "3       Masters         2016  Bangalore            3   27    Male          No   \n",
       "4       Masters         2017       Pune            3   24    Male         Yes   \n",
       "...         ...          ...        ...          ...  ...     ...         ...   \n",
       "4648  Bachelors         2013  Bangalore            3   26  Female          No   \n",
       "4649    Masters         2013       Pune            2   37    Male          No   \n",
       "4650    Masters         2018    Chennai            3   27    Male          No   \n",
       "4651  Bachelors         2012  Bangalore            3   30    Male         Yes   \n",
       "4652  Bachelors         2015  Bangalore            3   33    Male         Yes   \n",
       "\n",
       "      ExperienceInCurrentDomain  Attrition  \n",
       "0                             0          0  \n",
       "1                             3          1  \n",
       "2                             2          0  \n",
       "3                             5          1  \n",
       "4                             2          1  \n",
       "...                         ...        ...  \n",
       "4648                          4          0  \n",
       "4649                          2          1  \n",
       "4650                          5          1  \n",
       "4651                          2          0  \n",
       "4652                          4          0  \n",
       "\n",
       "[4653 rows x 9 columns]"
      ]
     },
     "execution_count": 8,
     "metadata": {},
     "output_type": "execute_result"
    }
   ],
   "source": [
    "data"
   ]
  },
  {
   "cell_type": "code",
   "execution_count": 9,
   "id": "4c821904",
   "metadata": {},
   "outputs": [
    {
     "data": {
      "text/plain": [
       "array([3053, 1600], dtype=int64)"
      ]
     },
     "execution_count": 9,
     "metadata": {},
     "output_type": "execute_result"
    }
   ],
   "source": [
    "data['Attrition'].value_counts().unique()"
   ]
  },
  {
   "cell_type": "code",
   "execution_count": 10,
   "id": "a4258b28",
   "metadata": {},
   "outputs": [
    {
     "data": {
      "text/html": [
       "<div>\n",
       "<style scoped>\n",
       "    .dataframe tbody tr th:only-of-type {\n",
       "        vertical-align: middle;\n",
       "    }\n",
       "\n",
       "    .dataframe tbody tr th {\n",
       "        vertical-align: top;\n",
       "    }\n",
       "\n",
       "    .dataframe thead th {\n",
       "        text-align: right;\n",
       "    }\n",
       "</style>\n",
       "<table border=\"1\" class=\"dataframe\">\n",
       "  <thead>\n",
       "    <tr style=\"text-align: right;\">\n",
       "      <th></th>\n",
       "      <th>Education</th>\n",
       "      <th>JoiningYear</th>\n",
       "      <th>City</th>\n",
       "      <th>PaymentTier</th>\n",
       "      <th>Age</th>\n",
       "      <th>Gender</th>\n",
       "      <th>EverBenched</th>\n",
       "      <th>ExperienceInCurrentDomain</th>\n",
       "      <th>Attrition</th>\n",
       "    </tr>\n",
       "  </thead>\n",
       "  <tbody>\n",
       "    <tr>\n",
       "      <th>0</th>\n",
       "      <td>Bachelors</td>\n",
       "      <td>2017</td>\n",
       "      <td>Bangalore</td>\n",
       "      <td>3</td>\n",
       "      <td>34</td>\n",
       "      <td>Male</td>\n",
       "      <td>No</td>\n",
       "      <td>0</td>\n",
       "      <td>0</td>\n",
       "    </tr>\n",
       "    <tr>\n",
       "      <th>1</th>\n",
       "      <td>Bachelors</td>\n",
       "      <td>2013</td>\n",
       "      <td>Pune</td>\n",
       "      <td>1</td>\n",
       "      <td>28</td>\n",
       "      <td>Female</td>\n",
       "      <td>No</td>\n",
       "      <td>3</td>\n",
       "      <td>1</td>\n",
       "    </tr>\n",
       "    <tr>\n",
       "      <th>2</th>\n",
       "      <td>Bachelors</td>\n",
       "      <td>2014</td>\n",
       "      <td>Chennai</td>\n",
       "      <td>3</td>\n",
       "      <td>38</td>\n",
       "      <td>Female</td>\n",
       "      <td>No</td>\n",
       "      <td>2</td>\n",
       "      <td>0</td>\n",
       "    </tr>\n",
       "    <tr>\n",
       "      <th>3</th>\n",
       "      <td>Masters</td>\n",
       "      <td>2016</td>\n",
       "      <td>Bangalore</td>\n",
       "      <td>3</td>\n",
       "      <td>27</td>\n",
       "      <td>Male</td>\n",
       "      <td>No</td>\n",
       "      <td>5</td>\n",
       "      <td>1</td>\n",
       "    </tr>\n",
       "    <tr>\n",
       "      <th>4</th>\n",
       "      <td>Masters</td>\n",
       "      <td>2017</td>\n",
       "      <td>Pune</td>\n",
       "      <td>3</td>\n",
       "      <td>24</td>\n",
       "      <td>Male</td>\n",
       "      <td>Yes</td>\n",
       "      <td>2</td>\n",
       "      <td>1</td>\n",
       "    </tr>\n",
       "  </tbody>\n",
       "</table>\n",
       "</div>"
      ],
      "text/plain": [
       "   Education  JoiningYear       City  PaymentTier  Age  Gender EverBenched  \\\n",
       "0  Bachelors         2017  Bangalore            3   34    Male          No   \n",
       "1  Bachelors         2013       Pune            1   28  Female          No   \n",
       "2  Bachelors         2014    Chennai            3   38  Female          No   \n",
       "3    Masters         2016  Bangalore            3   27    Male          No   \n",
       "4    Masters         2017       Pune            3   24    Male         Yes   \n",
       "\n",
       "   ExperienceInCurrentDomain  Attrition  \n",
       "0                          0          0  \n",
       "1                          3          1  \n",
       "2                          2          0  \n",
       "3                          5          1  \n",
       "4                          2          1  "
      ]
     },
     "execution_count": 10,
     "metadata": {},
     "output_type": "execute_result"
    }
   ],
   "source": [
    "data.head()"
   ]
  },
  {
   "cell_type": "code",
   "execution_count": 11,
   "id": "9937d983",
   "metadata": {},
   "outputs": [
    {
     "data": {
      "text/html": [
       "<div>\n",
       "<style scoped>\n",
       "    .dataframe tbody tr th:only-of-type {\n",
       "        vertical-align: middle;\n",
       "    }\n",
       "\n",
       "    .dataframe tbody tr th {\n",
       "        vertical-align: top;\n",
       "    }\n",
       "\n",
       "    .dataframe thead th {\n",
       "        text-align: right;\n",
       "    }\n",
       "</style>\n",
       "<table border=\"1\" class=\"dataframe\">\n",
       "  <thead>\n",
       "    <tr style=\"text-align: right;\">\n",
       "      <th></th>\n",
       "      <th>Education</th>\n",
       "      <th>JoiningYear</th>\n",
       "      <th>City</th>\n",
       "      <th>PaymentTier</th>\n",
       "      <th>Age</th>\n",
       "      <th>Gender</th>\n",
       "      <th>EverBenched</th>\n",
       "      <th>ExperienceInCurrentDomain</th>\n",
       "      <th>Attrition</th>\n",
       "    </tr>\n",
       "  </thead>\n",
       "  <tbody>\n",
       "    <tr>\n",
       "      <th>4648</th>\n",
       "      <td>Bachelors</td>\n",
       "      <td>2013</td>\n",
       "      <td>Bangalore</td>\n",
       "      <td>3</td>\n",
       "      <td>26</td>\n",
       "      <td>Female</td>\n",
       "      <td>No</td>\n",
       "      <td>4</td>\n",
       "      <td>0</td>\n",
       "    </tr>\n",
       "    <tr>\n",
       "      <th>4649</th>\n",
       "      <td>Masters</td>\n",
       "      <td>2013</td>\n",
       "      <td>Pune</td>\n",
       "      <td>2</td>\n",
       "      <td>37</td>\n",
       "      <td>Male</td>\n",
       "      <td>No</td>\n",
       "      <td>2</td>\n",
       "      <td>1</td>\n",
       "    </tr>\n",
       "    <tr>\n",
       "      <th>4650</th>\n",
       "      <td>Masters</td>\n",
       "      <td>2018</td>\n",
       "      <td>Chennai</td>\n",
       "      <td>3</td>\n",
       "      <td>27</td>\n",
       "      <td>Male</td>\n",
       "      <td>No</td>\n",
       "      <td>5</td>\n",
       "      <td>1</td>\n",
       "    </tr>\n",
       "    <tr>\n",
       "      <th>4651</th>\n",
       "      <td>Bachelors</td>\n",
       "      <td>2012</td>\n",
       "      <td>Bangalore</td>\n",
       "      <td>3</td>\n",
       "      <td>30</td>\n",
       "      <td>Male</td>\n",
       "      <td>Yes</td>\n",
       "      <td>2</td>\n",
       "      <td>0</td>\n",
       "    </tr>\n",
       "    <tr>\n",
       "      <th>4652</th>\n",
       "      <td>Bachelors</td>\n",
       "      <td>2015</td>\n",
       "      <td>Bangalore</td>\n",
       "      <td>3</td>\n",
       "      <td>33</td>\n",
       "      <td>Male</td>\n",
       "      <td>Yes</td>\n",
       "      <td>4</td>\n",
       "      <td>0</td>\n",
       "    </tr>\n",
       "  </tbody>\n",
       "</table>\n",
       "</div>"
      ],
      "text/plain": [
       "      Education  JoiningYear       City  PaymentTier  Age  Gender EverBenched  \\\n",
       "4648  Bachelors         2013  Bangalore            3   26  Female          No   \n",
       "4649    Masters         2013       Pune            2   37    Male          No   \n",
       "4650    Masters         2018    Chennai            3   27    Male          No   \n",
       "4651  Bachelors         2012  Bangalore            3   30    Male         Yes   \n",
       "4652  Bachelors         2015  Bangalore            3   33    Male         Yes   \n",
       "\n",
       "      ExperienceInCurrentDomain  Attrition  \n",
       "4648                          4          0  \n",
       "4649                          2          1  \n",
       "4650                          5          1  \n",
       "4651                          2          0  \n",
       "4652                          4          0  "
      ]
     },
     "execution_count": 11,
     "metadata": {},
     "output_type": "execute_result"
    }
   ],
   "source": [
    "data.tail()"
   ]
  },
  {
   "cell_type": "markdown",
   "id": "141f8cb5",
   "metadata": {},
   "source": [
    "# DATA PREPROCESSING:\n"
   ]
  },
  {
   "cell_type": "code",
   "execution_count": 12,
   "id": "37fc3c7e",
   "metadata": {},
   "outputs": [
    {
     "name": "stdout",
     "output_type": "stream",
     "text": [
      "<class 'pandas.core.frame.DataFrame'>\n",
      "RangeIndex: 4653 entries, 0 to 4652\n",
      "Data columns (total 9 columns):\n",
      " #   Column                     Non-Null Count  Dtype \n",
      "---  ------                     --------------  ----- \n",
      " 0   Education                  4653 non-null   object\n",
      " 1   JoiningYear                4653 non-null   int64 \n",
      " 2   City                       4653 non-null   object\n",
      " 3   PaymentTier                4653 non-null   int64 \n",
      " 4   Age                        4653 non-null   int64 \n",
      " 5   Gender                     4653 non-null   object\n",
      " 6   EverBenched                4653 non-null   object\n",
      " 7   ExperienceInCurrentDomain  4653 non-null   int64 \n",
      " 8   Attrition                  4653 non-null   int64 \n",
      "dtypes: int64(5), object(4)\n",
      "memory usage: 327.3+ KB\n"
     ]
    }
   ],
   "source": [
    "data.info()"
   ]
  },
  {
   "cell_type": "code",
   "execution_count": 13,
   "id": "94e4b35b",
   "metadata": {},
   "outputs": [
    {
     "data": {
      "text/plain": [
       "0       False\n",
       "1       False\n",
       "2       False\n",
       "3       False\n",
       "4       False\n",
       "        ...  \n",
       "4648     True\n",
       "4649    False\n",
       "4650    False\n",
       "4651    False\n",
       "4652     True\n",
       "Length: 4653, dtype: bool"
      ]
     },
     "execution_count": 13,
     "metadata": {},
     "output_type": "execute_result"
    }
   ],
   "source": [
    "data.duplicated()"
   ]
  },
  {
   "cell_type": "code",
   "execution_count": 14,
   "id": "91b6b18f",
   "metadata": {},
   "outputs": [
    {
     "data": {
      "text/html": [
       "<div>\n",
       "<style scoped>\n",
       "    .dataframe tbody tr th:only-of-type {\n",
       "        vertical-align: middle;\n",
       "    }\n",
       "\n",
       "    .dataframe tbody tr th {\n",
       "        vertical-align: top;\n",
       "    }\n",
       "\n",
       "    .dataframe thead th {\n",
       "        text-align: right;\n",
       "    }\n",
       "</style>\n",
       "<table border=\"1\" class=\"dataframe\">\n",
       "  <thead>\n",
       "    <tr style=\"text-align: right;\">\n",
       "      <th></th>\n",
       "      <th>JoiningYear</th>\n",
       "      <th>PaymentTier</th>\n",
       "      <th>Age</th>\n",
       "      <th>ExperienceInCurrentDomain</th>\n",
       "      <th>Attrition</th>\n",
       "    </tr>\n",
       "  </thead>\n",
       "  <tbody>\n",
       "    <tr>\n",
       "      <th>count</th>\n",
       "      <td>4653.000000</td>\n",
       "      <td>4653.000000</td>\n",
       "      <td>4653.000000</td>\n",
       "      <td>4653.000000</td>\n",
       "      <td>4653.000000</td>\n",
       "    </tr>\n",
       "    <tr>\n",
       "      <th>mean</th>\n",
       "      <td>2015.062970</td>\n",
       "      <td>2.698259</td>\n",
       "      <td>29.393295</td>\n",
       "      <td>2.905652</td>\n",
       "      <td>0.343864</td>\n",
       "    </tr>\n",
       "    <tr>\n",
       "      <th>std</th>\n",
       "      <td>1.863377</td>\n",
       "      <td>0.561435</td>\n",
       "      <td>4.826087</td>\n",
       "      <td>1.558240</td>\n",
       "      <td>0.475047</td>\n",
       "    </tr>\n",
       "    <tr>\n",
       "      <th>min</th>\n",
       "      <td>2012.000000</td>\n",
       "      <td>1.000000</td>\n",
       "      <td>22.000000</td>\n",
       "      <td>0.000000</td>\n",
       "      <td>0.000000</td>\n",
       "    </tr>\n",
       "    <tr>\n",
       "      <th>25%</th>\n",
       "      <td>2013.000000</td>\n",
       "      <td>3.000000</td>\n",
       "      <td>26.000000</td>\n",
       "      <td>2.000000</td>\n",
       "      <td>0.000000</td>\n",
       "    </tr>\n",
       "    <tr>\n",
       "      <th>50%</th>\n",
       "      <td>2015.000000</td>\n",
       "      <td>3.000000</td>\n",
       "      <td>28.000000</td>\n",
       "      <td>3.000000</td>\n",
       "      <td>0.000000</td>\n",
       "    </tr>\n",
       "    <tr>\n",
       "      <th>75%</th>\n",
       "      <td>2017.000000</td>\n",
       "      <td>3.000000</td>\n",
       "      <td>32.000000</td>\n",
       "      <td>4.000000</td>\n",
       "      <td>1.000000</td>\n",
       "    </tr>\n",
       "    <tr>\n",
       "      <th>max</th>\n",
       "      <td>2018.000000</td>\n",
       "      <td>3.000000</td>\n",
       "      <td>41.000000</td>\n",
       "      <td>7.000000</td>\n",
       "      <td>1.000000</td>\n",
       "    </tr>\n",
       "  </tbody>\n",
       "</table>\n",
       "</div>"
      ],
      "text/plain": [
       "       JoiningYear  PaymentTier          Age  ExperienceInCurrentDomain  \\\n",
       "count  4653.000000  4653.000000  4653.000000                4653.000000   \n",
       "mean   2015.062970     2.698259    29.393295                   2.905652   \n",
       "std       1.863377     0.561435     4.826087                   1.558240   \n",
       "min    2012.000000     1.000000    22.000000                   0.000000   \n",
       "25%    2013.000000     3.000000    26.000000                   2.000000   \n",
       "50%    2015.000000     3.000000    28.000000                   3.000000   \n",
       "75%    2017.000000     3.000000    32.000000                   4.000000   \n",
       "max    2018.000000     3.000000    41.000000                   7.000000   \n",
       "\n",
       "         Attrition  \n",
       "count  4653.000000  \n",
       "mean      0.343864  \n",
       "std       0.475047  \n",
       "min       0.000000  \n",
       "25%       0.000000  \n",
       "50%       0.000000  \n",
       "75%       1.000000  \n",
       "max       1.000000  "
      ]
     },
     "execution_count": 14,
     "metadata": {},
     "output_type": "execute_result"
    }
   ],
   "source": [
    "data.describe()"
   ]
  },
  {
   "cell_type": "markdown",
   "id": "87cf220b",
   "metadata": {},
   "source": [
    "# DISPLAYING THE COUNT OF DATA IN EACH COLUMNS"
   ]
  },
  {
   "cell_type": "markdown",
   "id": "cdae3c86",
   "metadata": {},
   "source": [
    "# CHECHING THE VALUES\n"
   ]
  },
  {
   "cell_type": "code",
   "execution_count": 15,
   "id": "53c407f1",
   "metadata": {},
   "outputs": [
    {
     "data": {
      "text/plain": [
       "Bachelors    3601\n",
       "Masters       873\n",
       "PHD           179\n",
       "Name: Education, dtype: int64"
      ]
     },
     "execution_count": 15,
     "metadata": {},
     "output_type": "execute_result"
    }
   ],
   "source": [
    "\n",
    "data['Education'].value_counts()\n"
   ]
  },
  {
   "cell_type": "code",
   "execution_count": 16,
   "id": "92324635",
   "metadata": {},
   "outputs": [
    {
     "data": {
      "text/plain": [
       "Bangalore    2228\n",
       "Pune         1268\n",
       "Chennai      1157\n",
       "Name: City, dtype: int64"
      ]
     },
     "execution_count": 16,
     "metadata": {},
     "output_type": "execute_result"
    }
   ],
   "source": [
    "data['City'].value_counts()"
   ]
  },
  {
   "cell_type": "code",
   "execution_count": 17,
   "id": "08b98434",
   "metadata": {},
   "outputs": [
    {
     "data": {
      "text/plain": [
       "2017    1108\n",
       "2015     781\n",
       "2014     699\n",
       "2013     669\n",
       "2016     525\n",
       "2012     504\n",
       "2018     367\n",
       "Name: JoiningYear, dtype: int64"
      ]
     },
     "execution_count": 17,
     "metadata": {},
     "output_type": "execute_result"
    }
   ],
   "source": [
    "data['JoiningYear'].value_counts()\n"
   ]
  },
  {
   "cell_type": "code",
   "execution_count": 18,
   "id": "7fb8530e",
   "metadata": {},
   "outputs": [
    {
     "data": {
      "text/plain": [
       "3    3492\n",
       "2     918\n",
       "1     243\n",
       "Name: PaymentTier, dtype: int64"
      ]
     },
     "execution_count": 18,
     "metadata": {},
     "output_type": "execute_result"
    }
   ],
   "source": [
    "data['PaymentTier'].value_counts()\n"
   ]
  },
  {
   "cell_type": "code",
   "execution_count": 19,
   "id": "90095094",
   "metadata": {},
   "outputs": [
    {
     "data": {
      "text/plain": [
       "No     4175\n",
       "Yes     478\n",
       "Name: EverBenched, dtype: int64"
      ]
     },
     "execution_count": 19,
     "metadata": {},
     "output_type": "execute_result"
    }
   ],
   "source": [
    "data['EverBenched'].value_counts()\n"
   ]
  },
  {
   "cell_type": "code",
   "execution_count": 20,
   "id": "184c0210",
   "metadata": {},
   "outputs": [
    {
     "data": {
      "text/plain": [
       "Male      2778\n",
       "Female    1875\n",
       "Name: Gender, dtype: int64"
      ]
     },
     "execution_count": 20,
     "metadata": {},
     "output_type": "execute_result"
    }
   ],
   "source": [
    "data['Gender'].value_counts()\n"
   ]
  },
  {
   "cell_type": "markdown",
   "id": "613ff23f",
   "metadata": {},
   "source": [
    "# CHANGING THE EDUCATION INTO CATEGORIES\n"
   ]
  },
  {
   "cell_type": "code",
   "execution_count": 21,
   "id": "de78d13d",
   "metadata": {},
   "outputs": [
    {
     "data": {
      "text/plain": [
       "0    3601\n",
       "1     873\n",
       "2     179\n",
       "Name: Education, dtype: int64"
      ]
     },
     "execution_count": 21,
     "metadata": {},
     "output_type": "execute_result"
    }
   ],
   "source": [
    "data['Education'] = data['Education'].astype('category')\n",
    "data['Education'] = data['Education'].cat.reorder_categories(['Bachelors','Masters','PHD'])\n",
    "data['Education'] = data['Education'].cat.codes\n",
    "data['Education'].value_counts()"
   ]
  },
  {
   "cell_type": "markdown",
   "id": "bcbacb09",
   "metadata": {},
   "source": [
    "# CHANGING THE JOINING YEAR TO THE DURATION OF HOW LONG THE EMPLOYEES HAS BEEN WITH THE COMPANY"
   ]
  },
  {
   "cell_type": "code",
   "execution_count": 22,
   "id": "d8994e4a",
   "metadata": {},
   "outputs": [
    {
     "data": {
      "text/plain": [
       "1    1108\n",
       "3     781\n",
       "4     699\n",
       "5     669\n",
       "2     525\n",
       "6     504\n",
       "0     367\n",
       "Name: JoiningYear, dtype: int64"
      ]
     },
     "execution_count": 22,
     "metadata": {},
     "output_type": "execute_result"
    }
   ],
   "source": [
    "data['JoiningYear'] = 2018 - data['JoiningYear']\n",
    "data['JoiningYear'].value_counts()"
   ]
  },
  {
   "cell_type": "code",
   "execution_count": 23,
   "id": "079958af",
   "metadata": {},
   "outputs": [
    {
     "data": {
      "text/html": [
       "<div>\n",
       "<style scoped>\n",
       "    .dataframe tbody tr th:only-of-type {\n",
       "        vertical-align: middle;\n",
       "    }\n",
       "\n",
       "    .dataframe tbody tr th {\n",
       "        vertical-align: top;\n",
       "    }\n",
       "\n",
       "    .dataframe thead th {\n",
       "        text-align: right;\n",
       "    }\n",
       "</style>\n",
       "<table border=\"1\" class=\"dataframe\">\n",
       "  <thead>\n",
       "    <tr style=\"text-align: right;\">\n",
       "      <th></th>\n",
       "      <th>Education</th>\n",
       "      <th>DurationInCompany</th>\n",
       "      <th>City</th>\n",
       "      <th>PaymentTier</th>\n",
       "      <th>Age</th>\n",
       "      <th>Gender</th>\n",
       "      <th>EverBenched</th>\n",
       "      <th>ExperienceInCurrentDomain</th>\n",
       "      <th>Attrition</th>\n",
       "    </tr>\n",
       "  </thead>\n",
       "  <tbody>\n",
       "    <tr>\n",
       "      <th>0</th>\n",
       "      <td>0</td>\n",
       "      <td>1</td>\n",
       "      <td>Bangalore</td>\n",
       "      <td>3</td>\n",
       "      <td>34</td>\n",
       "      <td>Male</td>\n",
       "      <td>No</td>\n",
       "      <td>0</td>\n",
       "      <td>0</td>\n",
       "    </tr>\n",
       "    <tr>\n",
       "      <th>1</th>\n",
       "      <td>0</td>\n",
       "      <td>5</td>\n",
       "      <td>Pune</td>\n",
       "      <td>1</td>\n",
       "      <td>28</td>\n",
       "      <td>Female</td>\n",
       "      <td>No</td>\n",
       "      <td>3</td>\n",
       "      <td>1</td>\n",
       "    </tr>\n",
       "    <tr>\n",
       "      <th>2</th>\n",
       "      <td>0</td>\n",
       "      <td>4</td>\n",
       "      <td>Chennai</td>\n",
       "      <td>3</td>\n",
       "      <td>38</td>\n",
       "      <td>Female</td>\n",
       "      <td>No</td>\n",
       "      <td>2</td>\n",
       "      <td>0</td>\n",
       "    </tr>\n",
       "    <tr>\n",
       "      <th>3</th>\n",
       "      <td>1</td>\n",
       "      <td>2</td>\n",
       "      <td>Bangalore</td>\n",
       "      <td>3</td>\n",
       "      <td>27</td>\n",
       "      <td>Male</td>\n",
       "      <td>No</td>\n",
       "      <td>5</td>\n",
       "      <td>1</td>\n",
       "    </tr>\n",
       "    <tr>\n",
       "      <th>4</th>\n",
       "      <td>1</td>\n",
       "      <td>1</td>\n",
       "      <td>Pune</td>\n",
       "      <td>3</td>\n",
       "      <td>24</td>\n",
       "      <td>Male</td>\n",
       "      <td>Yes</td>\n",
       "      <td>2</td>\n",
       "      <td>1</td>\n",
       "    </tr>\n",
       "  </tbody>\n",
       "</table>\n",
       "</div>"
      ],
      "text/plain": [
       "   Education  DurationInCompany       City  PaymentTier  Age  Gender  \\\n",
       "0          0                  1  Bangalore            3   34    Male   \n",
       "1          0                  5       Pune            1   28  Female   \n",
       "2          0                  4    Chennai            3   38  Female   \n",
       "3          1                  2  Bangalore            3   27    Male   \n",
       "4          1                  1       Pune            3   24    Male   \n",
       "\n",
       "  EverBenched  ExperienceInCurrentDomain  Attrition  \n",
       "0          No                          0          0  \n",
       "1          No                          3          1  \n",
       "2          No                          2          0  \n",
       "3          No                          5          1  \n",
       "4         Yes                          2          1  "
      ]
     },
     "execution_count": 23,
     "metadata": {},
     "output_type": "execute_result"
    }
   ],
   "source": [
    "data= data.rename(columns = {'JoiningYear':'DurationInCompany'})\n",
    "data.head()"
   ]
  },
  {
   "cell_type": "markdown",
   "id": "63ff1cf6",
   "metadata": {},
   "source": [
    "# CREATING DUMMIES FOR THE CATEGORIAL:\n"
   ]
  },
  {
   "cell_type": "code",
   "execution_count": 24,
   "id": "2ce534d6",
   "metadata": {},
   "outputs": [],
   "source": [
    "city = pd.get_dummies(data['City'],drop_first = True)\n"
   ]
  },
  {
   "cell_type": "code",
   "execution_count": 25,
   "id": "1a63eabf",
   "metadata": {},
   "outputs": [
    {
     "data": {
      "text/html": [
       "<div>\n",
       "<style scoped>\n",
       "    .dataframe tbody tr th:only-of-type {\n",
       "        vertical-align: middle;\n",
       "    }\n",
       "\n",
       "    .dataframe tbody tr th {\n",
       "        vertical-align: top;\n",
       "    }\n",
       "\n",
       "    .dataframe thead th {\n",
       "        text-align: right;\n",
       "    }\n",
       "</style>\n",
       "<table border=\"1\" class=\"dataframe\">\n",
       "  <thead>\n",
       "    <tr style=\"text-align: right;\">\n",
       "      <th></th>\n",
       "      <th>Education</th>\n",
       "      <th>DurationInCompany</th>\n",
       "      <th>PaymentTier</th>\n",
       "      <th>Age</th>\n",
       "      <th>Gender</th>\n",
       "      <th>EverBenched</th>\n",
       "      <th>ExperienceInCurrentDomain</th>\n",
       "      <th>Attrition</th>\n",
       "      <th>Chennai</th>\n",
       "      <th>Pune</th>\n",
       "    </tr>\n",
       "  </thead>\n",
       "  <tbody>\n",
       "    <tr>\n",
       "      <th>0</th>\n",
       "      <td>0</td>\n",
       "      <td>1</td>\n",
       "      <td>3</td>\n",
       "      <td>34</td>\n",
       "      <td>Male</td>\n",
       "      <td>No</td>\n",
       "      <td>0</td>\n",
       "      <td>0</td>\n",
       "      <td>0</td>\n",
       "      <td>0</td>\n",
       "    </tr>\n",
       "    <tr>\n",
       "      <th>1</th>\n",
       "      <td>0</td>\n",
       "      <td>5</td>\n",
       "      <td>1</td>\n",
       "      <td>28</td>\n",
       "      <td>Female</td>\n",
       "      <td>No</td>\n",
       "      <td>3</td>\n",
       "      <td>1</td>\n",
       "      <td>0</td>\n",
       "      <td>1</td>\n",
       "    </tr>\n",
       "    <tr>\n",
       "      <th>2</th>\n",
       "      <td>0</td>\n",
       "      <td>4</td>\n",
       "      <td>3</td>\n",
       "      <td>38</td>\n",
       "      <td>Female</td>\n",
       "      <td>No</td>\n",
       "      <td>2</td>\n",
       "      <td>0</td>\n",
       "      <td>1</td>\n",
       "      <td>0</td>\n",
       "    </tr>\n",
       "    <tr>\n",
       "      <th>3</th>\n",
       "      <td>1</td>\n",
       "      <td>2</td>\n",
       "      <td>3</td>\n",
       "      <td>27</td>\n",
       "      <td>Male</td>\n",
       "      <td>No</td>\n",
       "      <td>5</td>\n",
       "      <td>1</td>\n",
       "      <td>0</td>\n",
       "      <td>0</td>\n",
       "    </tr>\n",
       "    <tr>\n",
       "      <th>4</th>\n",
       "      <td>1</td>\n",
       "      <td>1</td>\n",
       "      <td>3</td>\n",
       "      <td>24</td>\n",
       "      <td>Male</td>\n",
       "      <td>Yes</td>\n",
       "      <td>2</td>\n",
       "      <td>1</td>\n",
       "      <td>0</td>\n",
       "      <td>1</td>\n",
       "    </tr>\n",
       "  </tbody>\n",
       "</table>\n",
       "</div>"
      ],
      "text/plain": [
       "   Education  DurationInCompany  PaymentTier  Age  Gender EverBenched  \\\n",
       "0          0                  1            3   34    Male          No   \n",
       "1          0                  5            1   28  Female          No   \n",
       "2          0                  4            3   38  Female          No   \n",
       "3          1                  2            3   27    Male          No   \n",
       "4          1                  1            3   24    Male         Yes   \n",
       "\n",
       "   ExperienceInCurrentDomain  Attrition  Chennai  Pune  \n",
       "0                          0          0        0     0  \n",
       "1                          3          1        0     1  \n",
       "2                          2          0        1     0  \n",
       "3                          5          1        0     0  \n",
       "4                          2          1        0     1  "
      ]
     },
     "execution_count": 25,
     "metadata": {},
     "output_type": "execute_result"
    }
   ],
   "source": [
    "data = data.drop('City', axis = 1)\n",
    "data = data.join(city)\n",
    "data.head()"
   ]
  },
  {
   "cell_type": "code",
   "execution_count": 26,
   "id": "f9f24b81",
   "metadata": {},
   "outputs": [],
   "source": [
    "gender = pd.get_dummies(data['Gender'],drop_first = True)\n",
    "benched = pd.get_dummies(data['EverBenched'],drop_first = True)\n",
    "data = data.drop(['Gender','EverBenched'], axis = 1)\n",
    "data = data.join(gender)\n",
    "data = data.join(benched)"
   ]
  },
  {
   "cell_type": "code",
   "execution_count": 27,
   "id": "8196c7c0",
   "metadata": {},
   "outputs": [
    {
     "name": "stdout",
     "output_type": "stream",
     "text": [
      "<class 'pandas.core.frame.DataFrame'>\n",
      "RangeIndex: 4653 entries, 0 to 4652\n",
      "Data columns (total 10 columns):\n",
      " #   Column                     Non-Null Count  Dtype\n",
      "---  ------                     --------------  -----\n",
      " 0   Education                  4653 non-null   int8 \n",
      " 1   DurationInCompany          4653 non-null   int64\n",
      " 2   PaymentTier                4653 non-null   int64\n",
      " 3   Age                        4653 non-null   int64\n",
      " 4   ExperienceInCurrentDomain  4653 non-null   int64\n",
      " 5   Attrition                  4653 non-null   int64\n",
      " 6   Chennai                    4653 non-null   uint8\n",
      " 7   Pune                       4653 non-null   uint8\n",
      " 8   Gender                     4653 non-null   uint8\n",
      " 9   EverBenched                4653 non-null   uint8\n",
      "dtypes: int64(5), int8(1), uint8(4)\n",
      "memory usage: 204.6 KB\n"
     ]
    }
   ],
   "source": [
    "data = data.rename(columns = {'Yes':'EverBenched','Male':'Gender'})\n",
    "data.info()"
   ]
  },
  {
   "cell_type": "code",
   "execution_count": 28,
   "id": "a4a04505",
   "metadata": {},
   "outputs": [
    {
     "data": {
      "text/html": [
       "<div>\n",
       "<style scoped>\n",
       "    .dataframe tbody tr th:only-of-type {\n",
       "        vertical-align: middle;\n",
       "    }\n",
       "\n",
       "    .dataframe tbody tr th {\n",
       "        vertical-align: top;\n",
       "    }\n",
       "\n",
       "    .dataframe thead th {\n",
       "        text-align: right;\n",
       "    }\n",
       "</style>\n",
       "<table border=\"1\" class=\"dataframe\">\n",
       "  <thead>\n",
       "    <tr style=\"text-align: right;\">\n",
       "      <th></th>\n",
       "      <th>Education</th>\n",
       "      <th>DurationInCompany</th>\n",
       "      <th>PaymentTier</th>\n",
       "      <th>Age</th>\n",
       "      <th>ExperienceInCurrentDomain</th>\n",
       "      <th>Attrition</th>\n",
       "      <th>Chennai</th>\n",
       "      <th>Pune</th>\n",
       "      <th>Gender</th>\n",
       "      <th>EverBenched</th>\n",
       "    </tr>\n",
       "  </thead>\n",
       "  <tbody>\n",
       "    <tr>\n",
       "      <th>0</th>\n",
       "      <td>0</td>\n",
       "      <td>1</td>\n",
       "      <td>3</td>\n",
       "      <td>34</td>\n",
       "      <td>0</td>\n",
       "      <td>0</td>\n",
       "      <td>0</td>\n",
       "      <td>0</td>\n",
       "      <td>1</td>\n",
       "      <td>0</td>\n",
       "    </tr>\n",
       "    <tr>\n",
       "      <th>1</th>\n",
       "      <td>0</td>\n",
       "      <td>5</td>\n",
       "      <td>1</td>\n",
       "      <td>28</td>\n",
       "      <td>3</td>\n",
       "      <td>1</td>\n",
       "      <td>0</td>\n",
       "      <td>1</td>\n",
       "      <td>0</td>\n",
       "      <td>0</td>\n",
       "    </tr>\n",
       "    <tr>\n",
       "      <th>2</th>\n",
       "      <td>0</td>\n",
       "      <td>4</td>\n",
       "      <td>3</td>\n",
       "      <td>38</td>\n",
       "      <td>2</td>\n",
       "      <td>0</td>\n",
       "      <td>1</td>\n",
       "      <td>0</td>\n",
       "      <td>0</td>\n",
       "      <td>0</td>\n",
       "    </tr>\n",
       "    <tr>\n",
       "      <th>3</th>\n",
       "      <td>1</td>\n",
       "      <td>2</td>\n",
       "      <td>3</td>\n",
       "      <td>27</td>\n",
       "      <td>5</td>\n",
       "      <td>1</td>\n",
       "      <td>0</td>\n",
       "      <td>0</td>\n",
       "      <td>1</td>\n",
       "      <td>0</td>\n",
       "    </tr>\n",
       "    <tr>\n",
       "      <th>4</th>\n",
       "      <td>1</td>\n",
       "      <td>1</td>\n",
       "      <td>3</td>\n",
       "      <td>24</td>\n",
       "      <td>2</td>\n",
       "      <td>1</td>\n",
       "      <td>0</td>\n",
       "      <td>1</td>\n",
       "      <td>1</td>\n",
       "      <td>1</td>\n",
       "    </tr>\n",
       "  </tbody>\n",
       "</table>\n",
       "</div>"
      ],
      "text/plain": [
       "   Education  DurationInCompany  PaymentTier  Age  ExperienceInCurrentDomain  \\\n",
       "0          0                  1            3   34                          0   \n",
       "1          0                  5            1   28                          3   \n",
       "2          0                  4            3   38                          2   \n",
       "3          1                  2            3   27                          5   \n",
       "4          1                  1            3   24                          2   \n",
       "\n",
       "   Attrition  Chennai  Pune  Gender  EverBenched  \n",
       "0          0        0     0       1            0  \n",
       "1          1        0     1       0            0  \n",
       "2          0        1     0       0            0  \n",
       "3          1        0     0       1            0  \n",
       "4          1        0     1       1            1  "
      ]
     },
     "execution_count": 28,
     "metadata": {},
     "output_type": "execute_result"
    }
   ],
   "source": [
    "data.head()"
   ]
  },
  {
   "cell_type": "markdown",
   "id": "628e0872",
   "metadata": {},
   "source": [
    "# CHECKING THE CORRELATION BETWEEN THE DATA'S:\n"
   ]
  },
  {
   "cell_type": "code",
   "execution_count": 29,
   "id": "e0274c5a",
   "metadata": {},
   "outputs": [
    {
     "data": {
      "text/html": [
       "<div>\n",
       "<style scoped>\n",
       "    .dataframe tbody tr th:only-of-type {\n",
       "        vertical-align: middle;\n",
       "    }\n",
       "\n",
       "    .dataframe tbody tr th {\n",
       "        vertical-align: top;\n",
       "    }\n",
       "\n",
       "    .dataframe thead th {\n",
       "        text-align: right;\n",
       "    }\n",
       "</style>\n",
       "<table border=\"1\" class=\"dataframe\">\n",
       "  <thead>\n",
       "    <tr style=\"text-align: right;\">\n",
       "      <th></th>\n",
       "      <th>Education</th>\n",
       "      <th>DurationInCompany</th>\n",
       "      <th>PaymentTier</th>\n",
       "      <th>Age</th>\n",
       "      <th>ExperienceInCurrentDomain</th>\n",
       "      <th>Attrition</th>\n",
       "      <th>Chennai</th>\n",
       "      <th>Pune</th>\n",
       "      <th>Gender</th>\n",
       "      <th>EverBenched</th>\n",
       "    </tr>\n",
       "  </thead>\n",
       "  <tbody>\n",
       "    <tr>\n",
       "      <th>Education</th>\n",
       "      <td>1.000000</td>\n",
       "      <td>-0.142670</td>\n",
       "      <td>-0.140741</td>\n",
       "      <td>-0.010611</td>\n",
       "      <td>-0.004463</td>\n",
       "      <td>0.080497</td>\n",
       "      <td>0.397825</td>\n",
       "      <td>-0.051377</td>\n",
       "      <td>-0.010889</td>\n",
       "      <td>-0.052249</td>\n",
       "    </tr>\n",
       "    <tr>\n",
       "      <th>DurationInCompany</th>\n",
       "      <td>-0.142670</td>\n",
       "      <td>1.000000</td>\n",
       "      <td>0.096078</td>\n",
       "      <td>-0.013165</td>\n",
       "      <td>0.036525</td>\n",
       "      <td>-0.181705</td>\n",
       "      <td>-0.141744</td>\n",
       "      <td>0.020167</td>\n",
       "      <td>0.012213</td>\n",
       "      <td>-0.049353</td>\n",
       "    </tr>\n",
       "    <tr>\n",
       "      <th>PaymentTier</th>\n",
       "      <td>-0.140741</td>\n",
       "      <td>0.096078</td>\n",
       "      <td>1.000000</td>\n",
       "      <td>0.007631</td>\n",
       "      <td>0.018314</td>\n",
       "      <td>-0.197638</td>\n",
       "      <td>-0.102642</td>\n",
       "      <td>-0.229910</td>\n",
       "      <td>0.235119</td>\n",
       "      <td>0.019207</td>\n",
       "    </tr>\n",
       "    <tr>\n",
       "      <th>Age</th>\n",
       "      <td>-0.010611</td>\n",
       "      <td>-0.013165</td>\n",
       "      <td>0.007631</td>\n",
       "      <td>1.000000</td>\n",
       "      <td>-0.134643</td>\n",
       "      <td>-0.051126</td>\n",
       "      <td>-0.032461</td>\n",
       "      <td>-0.013273</td>\n",
       "      <td>-0.003866</td>\n",
       "      <td>-0.016135</td>\n",
       "    </tr>\n",
       "    <tr>\n",
       "      <th>ExperienceInCurrentDomain</th>\n",
       "      <td>-0.004463</td>\n",
       "      <td>0.036525</td>\n",
       "      <td>0.018314</td>\n",
       "      <td>-0.134643</td>\n",
       "      <td>1.000000</td>\n",
       "      <td>-0.030504</td>\n",
       "      <td>-0.007608</td>\n",
       "      <td>-0.005690</td>\n",
       "      <td>0.008745</td>\n",
       "      <td>0.001408</td>\n",
       "    </tr>\n",
       "    <tr>\n",
       "      <th>Attrition</th>\n",
       "      <td>0.080497</td>\n",
       "      <td>-0.181705</td>\n",
       "      <td>-0.197638</td>\n",
       "      <td>-0.051126</td>\n",
       "      <td>-0.030504</td>\n",
       "      <td>1.000000</td>\n",
       "      <td>-0.033341</td>\n",
       "      <td>0.206264</td>\n",
       "      <td>-0.220701</td>\n",
       "      <td>0.078438</td>\n",
       "    </tr>\n",
       "    <tr>\n",
       "      <th>Chennai</th>\n",
       "      <td>0.397825</td>\n",
       "      <td>-0.141744</td>\n",
       "      <td>-0.102642</td>\n",
       "      <td>-0.032461</td>\n",
       "      <td>-0.007608</td>\n",
       "      <td>-0.033341</td>\n",
       "      <td>1.000000</td>\n",
       "      <td>-0.352096</td>\n",
       "      <td>-0.155877</td>\n",
       "      <td>-0.029246</td>\n",
       "    </tr>\n",
       "    <tr>\n",
       "      <th>Pune</th>\n",
       "      <td>-0.051377</td>\n",
       "      <td>0.020167</td>\n",
       "      <td>-0.229910</td>\n",
       "      <td>-0.013273</td>\n",
       "      <td>-0.005690</td>\n",
       "      <td>0.206264</td>\n",
       "      <td>-0.352096</td>\n",
       "      <td>1.000000</td>\n",
       "      <td>-0.083685</td>\n",
       "      <td>0.007534</td>\n",
       "    </tr>\n",
       "    <tr>\n",
       "      <th>Gender</th>\n",
       "      <td>-0.010889</td>\n",
       "      <td>0.012213</td>\n",
       "      <td>0.235119</td>\n",
       "      <td>-0.003866</td>\n",
       "      <td>0.008745</td>\n",
       "      <td>-0.220701</td>\n",
       "      <td>-0.155877</td>\n",
       "      <td>-0.083685</td>\n",
       "      <td>1.000000</td>\n",
       "      <td>0.019653</td>\n",
       "    </tr>\n",
       "    <tr>\n",
       "      <th>EverBenched</th>\n",
       "      <td>-0.052249</td>\n",
       "      <td>-0.049353</td>\n",
       "      <td>0.019207</td>\n",
       "      <td>-0.016135</td>\n",
       "      <td>0.001408</td>\n",
       "      <td>0.078438</td>\n",
       "      <td>-0.029246</td>\n",
       "      <td>0.007534</td>\n",
       "      <td>0.019653</td>\n",
       "      <td>1.000000</td>\n",
       "    </tr>\n",
       "  </tbody>\n",
       "</table>\n",
       "</div>"
      ],
      "text/plain": [
       "                           Education  DurationInCompany  PaymentTier  \\\n",
       "Education                   1.000000          -0.142670    -0.140741   \n",
       "DurationInCompany          -0.142670           1.000000     0.096078   \n",
       "PaymentTier                -0.140741           0.096078     1.000000   \n",
       "Age                        -0.010611          -0.013165     0.007631   \n",
       "ExperienceInCurrentDomain  -0.004463           0.036525     0.018314   \n",
       "Attrition                   0.080497          -0.181705    -0.197638   \n",
       "Chennai                     0.397825          -0.141744    -0.102642   \n",
       "Pune                       -0.051377           0.020167    -0.229910   \n",
       "Gender                     -0.010889           0.012213     0.235119   \n",
       "EverBenched                -0.052249          -0.049353     0.019207   \n",
       "\n",
       "                                Age  ExperienceInCurrentDomain  Attrition  \\\n",
       "Education                 -0.010611                  -0.004463   0.080497   \n",
       "DurationInCompany         -0.013165                   0.036525  -0.181705   \n",
       "PaymentTier                0.007631                   0.018314  -0.197638   \n",
       "Age                        1.000000                  -0.134643  -0.051126   \n",
       "ExperienceInCurrentDomain -0.134643                   1.000000  -0.030504   \n",
       "Attrition                 -0.051126                  -0.030504   1.000000   \n",
       "Chennai                   -0.032461                  -0.007608  -0.033341   \n",
       "Pune                      -0.013273                  -0.005690   0.206264   \n",
       "Gender                    -0.003866                   0.008745  -0.220701   \n",
       "EverBenched               -0.016135                   0.001408   0.078438   \n",
       "\n",
       "                            Chennai      Pune    Gender  EverBenched  \n",
       "Education                  0.397825 -0.051377 -0.010889    -0.052249  \n",
       "DurationInCompany         -0.141744  0.020167  0.012213    -0.049353  \n",
       "PaymentTier               -0.102642 -0.229910  0.235119     0.019207  \n",
       "Age                       -0.032461 -0.013273 -0.003866    -0.016135  \n",
       "ExperienceInCurrentDomain -0.007608 -0.005690  0.008745     0.001408  \n",
       "Attrition                 -0.033341  0.206264 -0.220701     0.078438  \n",
       "Chennai                    1.000000 -0.352096 -0.155877    -0.029246  \n",
       "Pune                      -0.352096  1.000000 -0.083685     0.007534  \n",
       "Gender                    -0.155877 -0.083685  1.000000     0.019653  \n",
       "EverBenched               -0.029246  0.007534  0.019653     1.000000  "
      ]
     },
     "execution_count": 29,
     "metadata": {},
     "output_type": "execute_result"
    }
   ],
   "source": [
    "data.corr()\n"
   ]
  },
  {
   "cell_type": "markdown",
   "id": "1badd07d",
   "metadata": {},
   "source": [
    "# DISPLAYING THE CORRELATED VALUES USING A HEATMAP:\n"
   ]
  },
  {
   "cell_type": "code",
   "execution_count": 30,
   "id": "172a7478",
   "metadata": {},
   "outputs": [
    {
     "data": {
      "text/plain": [
       "<AxesSubplot:>"
      ]
     },
     "execution_count": 30,
     "metadata": {},
     "output_type": "execute_result"
    },
    {
     "data": {
      "image/png": "[encoded data removed]",
      "text/plain": [
       "<Figure size 720x576 with 2 Axes>"
      ]
     },
     "metadata": {},
     "output_type": "display_data"
    }
   ],
   "source": [
    "corr = data.corr()\n",
    "sns.set(rc = {'figure.figsize':(10,8)})\n",
    "sns.heatmap(corr,annot = True)\n"
   ]
  },
  {
   "cell_type": "markdown",
   "id": "d6ad7c35",
   "metadata": {},
   "source": [
    "# FROM THE HEAT MAP\n"
   ]
  },
  {
   "cell_type": "markdown",
   "id": "e512a0c6",
   "metadata": {},
   "source": [
    "# PAYMENT TIER, DURATION IN COMPANY CORRELATE MOST TO TURNOVER"
   ]
  },
  {
   "cell_type": "markdown",
   "id": "214c763b",
   "metadata": {},
   "source": [
    "# EXPLORATORY DATA ANALYSIS\n"
   ]
  },
  {
   "cell_type": "code",
   "execution_count": 31,
   "id": "53aea36e",
   "metadata": {},
   "outputs": [
    {
     "data": {
      "text/plain": [
       "Index(['Education', 'DurationInCompany', 'PaymentTier', 'Age',\n",
       "       'ExperienceInCurrentDomain', 'Attrition', 'Chennai', 'Pune', 'Gender',\n",
       "       'EverBenched'],\n",
       "      dtype='object')"
      ]
     },
     "execution_count": 31,
     "metadata": {},
     "output_type": "execute_result"
    }
   ],
   "source": [
    "data.columns\n"
   ]
  },
  {
   "cell_type": "code",
   "execution_count": 32,
   "id": "38392d28",
   "metadata": {},
   "outputs": [
    {
     "data": {
      "image/png": "[encoded data removed]",
      "text/plain": [
       "<Figure size 1080x1080 with 12 Axes>"
      ]
     },
     "metadata": {},
     "output_type": "display_data"
    }
   ],
   "source": [
    "data.hist(xrot = 20,figsize = (15,15),color = \"grey\")\n",
    "plt.show()"
   ]
  },
  {
   "cell_type": "code",
   "execution_count": 33,
   "id": "d6e3f952",
   "metadata": {},
   "outputs": [
    {
     "name": "stderr",
     "output_type": "stream",
     "text": [
      "C:\\Users\\DELL\\anaconda3\\lib\\site-packages\\seaborn\\_decorators.py:36: FutureWarning: Pass the following variable as a keyword arg: x. From version 0.12, the only valid positional argument will be `data`, and passing other arguments without an explicit keyword will result in an error or misinterpretation.\n",
      "  warnings.warn(\n"
     ]
    },
    {
     "data": {
      "text/plain": [
       "Text(0.5, 1.0, 'Attrition')"
      ]
     },
     "execution_count": 33,
     "metadata": {},
     "output_type": "execute_result"
    },
    {
     "data": {
      "image/png": "[encoded data removed]",
      "text/plain": [
       "<Figure size 360x360 with 1 Axes>"
      ]
     },
     "metadata": {},
     "output_type": "display_data"
    }
   ],
   "source": [
    "sns.countplot(data['Attrition'])\n",
    "fig = plt.gcf()\n",
    "fig.set_size_inches(5,5)\n",
    "plt.title('Attrition')"
   ]
  },
  {
   "cell_type": "code",
   "execution_count": 34,
   "id": "7d5e5e27",
   "metadata": {},
   "outputs": [
    {
     "name": "stderr",
     "output_type": "stream",
     "text": [
      "C:\\Users\\DELL\\anaconda3\\lib\\site-packages\\seaborn\\_decorators.py:36: FutureWarning: Pass the following variable as a keyword arg: x. From version 0.12, the only valid positional argument will be `data`, and passing other arguments without an explicit keyword will result in an error or misinterpretation.\n",
      "  warnings.warn(\n"
     ]
    },
    {
     "data": {
      "text/plain": [
       "Text(0.5, 1.0, 'PaymentTier')"
      ]
     },
     "execution_count": 34,
     "metadata": {},
     "output_type": "execute_result"
    },
    {
     "data": {
      "image/png": "[encoded data removed]",
      "text/plain": [
       "<Figure size 360x360 with 1 Axes>"
      ]
     },
     "metadata": {},
     "output_type": "display_data"
    }
   ],
   "source": [
    "sns.countplot(data['PaymentTier'])\n",
    "fig = plt.gcf()\n",
    "fig.set_size_inches(5,5)\n",
    "plt.title('PaymentTier')"
   ]
  },
  {
   "cell_type": "code",
   "execution_count": 35,
   "id": "c9b99a95",
   "metadata": {},
   "outputs": [
    {
     "name": "stderr",
     "output_type": "stream",
     "text": [
      "C:\\Users\\DELL\\anaconda3\\lib\\site-packages\\seaborn\\_decorators.py:36: FutureWarning: Pass the following variable as a keyword arg: x. From version 0.12, the only valid positional argument will be `data`, and passing other arguments without an explicit keyword will result in an error or misinterpretation.\n",
      "  warnings.warn(\n"
     ]
    },
    {
     "data": {
      "text/plain": [
       "Text(0.5, 1.0, 'Age')"
      ]
     },
     "execution_count": 35,
     "metadata": {},
     "output_type": "execute_result"
    },
    {
     "data": {
      "image/png": "[encoded data removed]",
      "text/plain": [
       "<Figure size 360x360 with 1 Axes>"
      ]
     },
     "metadata": {},
     "output_type": "display_data"
    }
   ],
   "source": [
    "sns.countplot(data['Age'])\n",
    "fig = plt.gcf()\n",
    "fig.set_size_inches(5,5)\n",
    "plt.title('Age')"
   ]
  },
  {
   "cell_type": "code",
   "execution_count": 36,
   "id": "b798d732",
   "metadata": {},
   "outputs": [
    {
     "name": "stderr",
     "output_type": "stream",
     "text": [
      "C:\\Users\\DELL\\anaconda3\\lib\\site-packages\\seaborn\\_decorators.py:36: FutureWarning: Pass the following variable as a keyword arg: x. From version 0.12, the only valid positional argument will be `data`, and passing other arguments without an explicit keyword will result in an error or misinterpretation.\n",
      "  warnings.warn(\n"
     ]
    },
    {
     "data": {
      "text/plain": [
       "Text(0.5, 1.0, 'ExperienceInCurrentDomain')"
      ]
     },
     "execution_count": 36,
     "metadata": {},
     "output_type": "execute_result"
    },
    {
     "data": {
      "image/png": "[encoded data removed]",
      "text/plain": [
       "<Figure size 360x360 with 1 Axes>"
      ]
     },
     "metadata": {},
     "output_type": "display_data"
    }
   ],
   "source": [
    "sns.countplot(data['ExperienceInCurrentDomain'])\n",
    "fig = plt.gcf()\n",
    "fig.set_size_inches(5,5)\n",
    "plt.title('ExperienceInCurrentDomain')"
   ]
  },
  {
   "cell_type": "code",
   "execution_count": 37,
   "id": "871dbc39",
   "metadata": {},
   "outputs": [
    {
     "name": "stderr",
     "output_type": "stream",
     "text": [
      "C:\\Users\\DELL\\anaconda3\\lib\\site-packages\\seaborn\\_decorators.py:36: FutureWarning: Pass the following variable as a keyword arg: x. From version 0.12, the only valid positional argument will be `data`, and passing other arguments without an explicit keyword will result in an error or misinterpretation.\n",
      "  warnings.warn(\n"
     ]
    },
    {
     "data": {
      "text/plain": [
       "Text(0.5, 1.0, 'EverBenched')"
      ]
     },
     "execution_count": 37,
     "metadata": {},
     "output_type": "execute_result"
    },
    {
     "data": {
      "image/png": "[encoded data removed]",
      "text/plain": [
       "<Figure size 360x360 with 1 Axes>"
      ]
     },
     "metadata": {},
     "output_type": "display_data"
    }
   ],
   "source": [
    "sns.countplot(data['EverBenched'])\n",
    "fig = plt.gcf()\n",
    "fig.set_size_inches(5,5)\n",
    "plt.title('EverBenched')"
   ]
  },
  {
   "cell_type": "code",
   "execution_count": 38,
   "id": "1666daeb",
   "metadata": {},
   "outputs": [
    {
     "name": "stderr",
     "output_type": "stream",
     "text": [
      "C:\\Users\\DELL\\anaconda3\\lib\\site-packages\\seaborn\\_decorators.py:36: FutureWarning: Pass the following variable as a keyword arg: x. From version 0.12, the only valid positional argument will be `data`, and passing other arguments without an explicit keyword will result in an error or misinterpretation.\n",
      "  warnings.warn(\n"
     ]
    },
    {
     "data": {
      "text/plain": [
       "Text(0.5, 1.0, 'City')"
      ]
     },
     "execution_count": 38,
     "metadata": {},
     "output_type": "execute_result"
    },
    {
     "data": {
      "image/png": "[encoded data removed]",
      "text/plain": [
       "<Figure size 360x360 with 1 Axes>"
      ]
     },
     "metadata": {},
     "output_type": "display_data"
    }
   ],
   "source": [
    "sns.countplot(data['Chennai'])\n",
    "fig = plt.gcf()\n",
    "fig.set_size_inches(5,5)\n",
    "plt.title('City')"
   ]
  },
  {
   "cell_type": "code",
   "execution_count": 39,
   "id": "c0fc5b4a",
   "metadata": {},
   "outputs": [
    {
     "name": "stderr",
     "output_type": "stream",
     "text": [
      "C:\\Users\\DELL\\anaconda3\\lib\\site-packages\\seaborn\\_decorators.py:36: FutureWarning: Pass the following variable as a keyword arg: x. From version 0.12, the only valid positional argument will be `data`, and passing other arguments without an explicit keyword will result in an error or misinterpretation.\n",
      "  warnings.warn(\n"
     ]
    },
    {
     "data": {
      "text/plain": [
       "Text(0.5, 1.0, 'City')"
      ]
     },
     "execution_count": 39,
     "metadata": {},
     "output_type": "execute_result"
    },
    {
     "data": {
      "image/png": "[encoded data removed]",
      "text/plain": [
       "<Figure size 360x360 with 1 Axes>"
      ]
     },
     "metadata": {},
     "output_type": "display_data"
    }
   ],
   "source": [
    "sns.countplot(data['Pune'])\n",
    "fig = plt.gcf()\n",
    "fig.set_size_inches(5,5)\n",
    "plt.title('City')"
   ]
  },
  {
   "cell_type": "code",
   "execution_count": 40,
   "id": "6359c674",
   "metadata": {},
   "outputs": [
    {
     "name": "stderr",
     "output_type": "stream",
     "text": [
      "C:\\Users\\DELL\\anaconda3\\lib\\site-packages\\seaborn\\_decorators.py:36: FutureWarning: Pass the following variable as a keyword arg: x. From version 0.12, the only valid positional argument will be `data`, and passing other arguments without an explicit keyword will result in an error or misinterpretation.\n",
      "  warnings.warn(\n"
     ]
    },
    {
     "data": {
      "text/plain": [
       "Text(0.5, 1.0, 'Education')"
      ]
     },
     "execution_count": 40,
     "metadata": {},
     "output_type": "execute_result"
    },
    {
     "data": {
      "image/png": "[encoded data removed]",
      "text/plain": [
       "<Figure size 360x360 with 1 Axes>"
      ]
     },
     "metadata": {},
     "output_type": "display_data"
    }
   ],
   "source": [
    "sns.countplot(data['Education'])\n",
    "fig = plt.gcf()\n",
    "fig.set_size_inches(5,5)\n",
    "plt.title('Education')"
   ]
  },
  {
   "cell_type": "code",
   "execution_count": 41,
   "id": "2f81ab83",
   "metadata": {},
   "outputs": [],
   "source": [
    "X=data.drop(['Attrition'],axis=1)\n",
    "y=data['Attrition']\n",
    "X_train, X_test, y_train, y_test = train_test_split(X, y, test_size=0.20, random_state=1)\n"
   ]
  },
  {
   "cell_type": "markdown",
   "id": "015118a5",
   "metadata": {},
   "source": [
    "# BUILDING MODELS"
   ]
  },
  {
   "cell_type": "markdown",
   "id": "f303b577",
   "metadata": {},
   "source": [
    "# 1.DECISION TREE ALGORITHM :\n"
   ]
  },
  {
   "cell_type": "markdown",
   "id": "e66e8c91",
   "metadata": {},
   "source": [
    "# USING STANDARD SCALAR METHOD"
   ]
  },
  {
   "cell_type": "code",
   "execution_count": 42,
   "id": "3a99fd6f",
   "metadata": {},
   "outputs": [],
   "source": [
    "from sklearn.preprocessing import StandardScaler\n",
    "scaler = StandardScaler()\n",
    "scaler.fit(data.drop('Attrition',axis = 1))\n",
    "scaled_features = scaler.transform(data.drop('Attrition',axis = 1))\n",
    "data_scaled = pd.DataFrame(scaled_features,columns = \n",
    "                         ['Education','DurationInCompany','PaymentTier', 'Age',\n",
    "                         'ExperienceInCurrentDomain','New Delhi','Pune', 'Gender', 'EverBenched'])"
   ]
  },
  {
   "cell_type": "code",
   "execution_count": 43,
   "id": "1d7a93ec",
   "metadata": {},
   "outputs": [
    {
     "data": {
      "text/html": [
       "<div>\n",
       "<style scoped>\n",
       "    .dataframe tbody tr th:only-of-type {\n",
       "        vertical-align: middle;\n",
       "    }\n",
       "\n",
       "    .dataframe tbody tr th {\n",
       "        vertical-align: top;\n",
       "    }\n",
       "\n",
       "    .dataframe thead th {\n",
       "        text-align: right;\n",
       "    }\n",
       "</style>\n",
       "<table border=\"1\" class=\"dataframe\">\n",
       "  <thead>\n",
       "    <tr style=\"text-align: right;\">\n",
       "      <th></th>\n",
       "      <th>Education</th>\n",
       "      <th>DurationInCompany</th>\n",
       "      <th>PaymentTier</th>\n",
       "      <th>Age</th>\n",
       "      <th>ExperienceInCurrentDomain</th>\n",
       "      <th>New Delhi</th>\n",
       "      <th>Pune</th>\n",
       "      <th>Gender</th>\n",
       "      <th>EverBenched</th>\n",
       "    </tr>\n",
       "  </thead>\n",
       "  <tbody>\n",
       "    <tr>\n",
       "      <th>0</th>\n",
       "      <td>-0.507731</td>\n",
       "      <td>-1.039638</td>\n",
       "      <td>0.537503</td>\n",
       "      <td>0.954645</td>\n",
       "      <td>-1.864901</td>\n",
       "      <td>-0.575282</td>\n",
       "      <td>-0.612041</td>\n",
       "      <td>0.821551</td>\n",
       "      <td>-0.338365</td>\n",
       "    </tr>\n",
       "    <tr>\n",
       "      <th>1</th>\n",
       "      <td>-0.507731</td>\n",
       "      <td>1.107233</td>\n",
       "      <td>-3.025177</td>\n",
       "      <td>-0.288732</td>\n",
       "      <td>0.060554</td>\n",
       "      <td>-0.575282</td>\n",
       "      <td>1.633878</td>\n",
       "      <td>-1.217210</td>\n",
       "      <td>-0.338365</td>\n",
       "    </tr>\n",
       "    <tr>\n",
       "      <th>2</th>\n",
       "      <td>-0.507731</td>\n",
       "      <td>0.570515</td>\n",
       "      <td>0.537503</td>\n",
       "      <td>1.783563</td>\n",
       "      <td>-0.581264</td>\n",
       "      <td>1.738277</td>\n",
       "      <td>-0.612041</td>\n",
       "      <td>-1.217210</td>\n",
       "      <td>-0.338365</td>\n",
       "    </tr>\n",
       "    <tr>\n",
       "      <th>3</th>\n",
       "      <td>1.411418</td>\n",
       "      <td>-0.502921</td>\n",
       "      <td>0.537503</td>\n",
       "      <td>-0.495961</td>\n",
       "      <td>1.344191</td>\n",
       "      <td>-0.575282</td>\n",
       "      <td>-0.612041</td>\n",
       "      <td>0.821551</td>\n",
       "      <td>-0.338365</td>\n",
       "    </tr>\n",
       "    <tr>\n",
       "      <th>4</th>\n",
       "      <td>1.411418</td>\n",
       "      <td>-1.039638</td>\n",
       "      <td>0.537503</td>\n",
       "      <td>-1.117650</td>\n",
       "      <td>-0.581264</td>\n",
       "      <td>-0.575282</td>\n",
       "      <td>1.633878</td>\n",
       "      <td>0.821551</td>\n",
       "      <td>2.955387</td>\n",
       "    </tr>\n",
       "  </tbody>\n",
       "</table>\n",
       "</div>"
      ],
      "text/plain": [
       "   Education  DurationInCompany  PaymentTier       Age  \\\n",
       "0  -0.507731          -1.039638     0.537503  0.954645   \n",
       "1  -0.507731           1.107233    -3.025177 -0.288732   \n",
       "2  -0.507731           0.570515     0.537503  1.783563   \n",
       "3   1.411418          -0.502921     0.537503 -0.495961   \n",
       "4   1.411418          -1.039638     0.537503 -1.117650   \n",
       "\n",
       "   ExperienceInCurrentDomain  New Delhi      Pune    Gender  EverBenched  \n",
       "0                  -1.864901  -0.575282 -0.612041  0.821551    -0.338365  \n",
       "1                   0.060554  -0.575282  1.633878 -1.217210    -0.338365  \n",
       "2                  -0.581264   1.738277 -0.612041 -1.217210    -0.338365  \n",
       "3                   1.344191  -0.575282 -0.612041  0.821551    -0.338365  \n",
       "4                  -0.581264  -0.575282  1.633878  0.821551     2.955387  "
      ]
     },
     "execution_count": 43,
     "metadata": {},
     "output_type": "execute_result"
    }
   ],
   "source": [
    "data_scaled.head()"
   ]
  },
  {
   "cell_type": "markdown",
   "id": "c64f00a9",
   "metadata": {},
   "source": [
    "# FITTING THE MODEL:"
   ]
  },
  {
   "cell_type": "code",
   "execution_count": 44,
   "id": "924e232e",
   "metadata": {},
   "outputs": [],
   "source": [
    "from sklearn.model_selection import train_test_split\n",
    "X = data_scaled\n",
    "y = data['Attrition']\n",
    "X_train, X_test, y_train, y_test = train_test_split(X, y, test_size=0.20, random_state=1)"
   ]
  },
  {
   "cell_type": "code",
   "execution_count": 45,
   "id": "46f19c7f",
   "metadata": {},
   "outputs": [],
   "source": [
    "from sklearn.tree import DecisionTreeClassifier\n",
    "from sklearn import metrics\n",
    "model = DecisionTreeClassifier(random_state = 1,class_weight=\"balanced\",\n",
    "                               min_samples_leaf =100)\n",
    "model.fit(X_train,y_train)\n",
    "y_pred=model.predict(X_test)"
   ]
  },
  {
   "cell_type": "code",
   "execution_count": 46,
   "id": "df59fff1",
   "metadata": {},
   "outputs": [
    {
     "data": {
      "text/plain": [
       "Text(0.5, 48.5, 'Predicted label')"
      ]
     },
     "execution_count": 46,
     "metadata": {},
     "output_type": "execute_result"
    },
    {
     "data": {
      "image/png": "[encoded data removed]",
      "text/plain": [
       "<Figure size 720x576 with 2 Axes>"
      ]
     },
     "metadata": {},
     "output_type": "display_data"
    }
   ],
   "source": [
    "cnf_matrix = metrics.confusion_matrix(y_test, y_pred)\n",
    "sns.heatmap(pd.DataFrame(cnf_matrix), annot=True,fmt='g')\n",
    "sns.set(rc={'figure.figsize':(2,2)})\n",
    "plt.tight_layout()\n",
    "plt.title('Confusion matrix', y=1.1)\n",
    "plt.ylabel('Actual label')\n",
    "plt.xlabel('Predicted label')"
   ]
  },
  {
   "cell_type": "markdown",
   "id": "101a7999",
   "metadata": {},
   "source": [
    "# CONFUSION MATRIX FOR THE PREDICTIONS:"
   ]
  },
  {
   "cell_type": "markdown",
   "id": "11715b75",
   "metadata": {},
   "source": [
    "# PERFORMANCE PREDICTION OF THE MODEL"
   ]
  },
  {
   "cell_type": "code",
   "execution_count": 47,
   "id": "acc2d200",
   "metadata": {},
   "outputs": [
    {
     "data": {
      "text/plain": [
       "0.7984954325631382"
      ]
     },
     "execution_count": 47,
     "metadata": {},
     "output_type": "execute_result"
    }
   ],
   "source": [
    "model.score(X_train,y_train)\n"
   ]
  },
  {
   "cell_type": "code",
   "execution_count": 48,
   "id": "71d1830e",
   "metadata": {},
   "outputs": [
    {
     "name": "stdout",
     "output_type": "stream",
     "text": [
      "Accuracy: 0.8045112781954887\n",
      "Precision: 0.7418397626112759\n",
      "Recall: 0.7246376811594203\n",
      "F1 Score: 0.7331378299120234\n",
      "Classification report\n",
      "              precision    recall  f1-score   support\n",
      "\n",
      "           0       0.84      0.85      0.85       586\n",
      "           1       0.74      0.72      0.73       345\n",
      "\n",
      "    accuracy                           0.80       931\n",
      "   macro avg       0.79      0.79      0.79       931\n",
      "weighted avg       0.80      0.80      0.80       931\n",
      "\n"
     ]
    }
   ],
   "source": [
    "print(\"Accuracy:\",metrics.accuracy_score(y_test, y_pred))\n",
    "print(\"Precision:\",metrics.precision_score(y_test, y_pred))\n",
    "print(\"Recall:\",metrics.recall_score(y_test, y_pred))\n",
    "print(\"F1 Score:\",metrics.f1_score(y_test, y_pred))\n",
    "print(\"Classification report\")\n",
    "print(metrics.classification_report(y_test, y_pred))"
   ]
  },
  {
   "cell_type": "markdown",
   "id": "a252610c",
   "metadata": {},
   "source": [
    "# ACCURACY WHILE USING DECISION TREE CLASSIFIER IS 80"
   ]
  },
  {
   "cell_type": "markdown",
   "id": "a6eb1eb5",
   "metadata": {},
   "source": [
    "# HYPERPARAMETERS TUNING USING GRID SEARCH"
   ]
  },
  {
   "cell_type": "code",
   "execution_count": 49,
   "id": "50def8db",
   "metadata": {},
   "outputs": [
    {
     "name": "stdout",
     "output_type": "stream",
     "text": [
      "Fitting 5 folds for each of 8640 candidates, totalling 43200 fits\n",
      "{'criterion': 'entropy', 'max_depth': 7, 'min_samples_leaf': 9, 'min_samples_split': 2, 'splitter': 'best'}\n"
     ]
    },
    {
     "data": {
      "text/plain": [
       "0.8141783029001074"
      ]
     },
     "execution_count": 49,
     "metadata": {},
     "output_type": "execute_result"
    }
   ],
   "source": [
    "grid_param = {\n",
    "    'criterion': ['gini', 'entropy'],\n",
    "    'max_depth' : range(2,32,1),\n",
    "    'min_samples_leaf' : range(1,10,1),\n",
    "    'min_samples_split': range(2,10,1),\n",
    "    'splitter' : ['best', 'random']\n",
    "    \n",
    "}\n",
    "\n",
    "from sklearn.model_selection import GridSearchCV\n",
    "grid_search_dt= GridSearchCV(estimator=model,\n",
    "                     param_grid=grid_param,\n",
    "                     cv=5,\n",
    "                    n_jobs =2, verbose=1)\n",
    "\n",
    "grid_search_dt.fit(X_train,y_train)\n",
    "\n",
    "best_parameters_dt= grid_search_dt.best_params_\n",
    "print(best_parameters_dt)\n",
    "\n",
    "grid_search_dt.best_score_\n",
    "\n",
    "clf = DecisionTreeClassifier(criterion = 'gini', max_depth = 25, min_samples_leaf= 1, min_samples_split= 2, splitter ='best')\n",
    "clf.fit(X_train,y_train)\n",
    "\n",
    "ac_clf= clf.score(X_test ,y_test)\n",
    "ac_clf"
   ]
  },
  {
   "cell_type": "markdown",
   "id": "e6997e4a",
   "metadata": {},
   "source": [
    "# 2.RANDOM FOREST CLASSIFIER"
   ]
  },
  {
   "cell_type": "code",
   "execution_count": 50,
   "id": "39159864",
   "metadata": {},
   "outputs": [],
   "source": [
    "from sklearn.ensemble import RandomForestClassifier \n"
   ]
  },
  {
   "cell_type": "code",
   "execution_count": 51,
   "id": "9d64bf93",
   "metadata": {},
   "outputs": [],
   "source": [
    "m=RandomForestClassifier()"
   ]
  },
  {
   "cell_type": "markdown",
   "id": "ed2b78ab",
   "metadata": {},
   "source": [
    "# FITTING THE MODEL:"
   ]
  },
  {
   "cell_type": "code",
   "execution_count": 52,
   "id": "fe6f8db6",
   "metadata": {},
   "outputs": [
    {
     "data": {
      "text/plain": [
       "RandomForestClassifier()"
      ]
     },
     "execution_count": 52,
     "metadata": {},
     "output_type": "execute_result"
    }
   ],
   "source": [
    "m.fit(X_train,y_train)"
   ]
  },
  {
   "cell_type": "code",
   "execution_count": 53,
   "id": "0ebf6137",
   "metadata": {},
   "outputs": [],
   "source": [
    "y=m.predict(X_test)"
   ]
  },
  {
   "cell_type": "code",
   "execution_count": 54,
   "id": "dc7e5101",
   "metadata": {},
   "outputs": [
    {
     "data": {
      "text/plain": [
       "array([[1.        , 0.        ],\n",
       "       [0.99166667, 0.00833333],\n",
       "       [0.84220922, 0.15779078],\n",
       "       ...,\n",
       "       [0.73615744, 0.26384256],\n",
       "       [0.93533333, 0.06466667],\n",
       "       [0.97477273, 0.02522727]])"
      ]
     },
     "execution_count": 54,
     "metadata": {},
     "output_type": "execute_result"
    }
   ],
   "source": [
    "m.predict_proba(X_test)"
   ]
  },
  {
   "cell_type": "markdown",
   "id": "11b1790e",
   "metadata": {},
   "source": [
    "# PERFORMANCE PREDICTION OF THE MODEL:"
   ]
  },
  {
   "cell_type": "code",
   "execution_count": 55,
   "id": "8a1370c9",
   "metadata": {},
   "outputs": [
    {
     "data": {
      "text/plain": [
       "0.8281417830290011"
      ]
     },
     "execution_count": 55,
     "metadata": {},
     "output_type": "execute_result"
    }
   ],
   "source": [
    "accuracy_score(y_test,y)"
   ]
  },
  {
   "cell_type": "code",
   "execution_count": 56,
   "id": "b5c702d6",
   "metadata": {},
   "outputs": [
    {
     "data": {
      "text/plain": [
       "0.929876410531972"
      ]
     },
     "execution_count": 56,
     "metadata": {},
     "output_type": "execute_result"
    }
   ],
   "source": [
    "m.score(X_train,y_train)"
   ]
  },
  {
   "cell_type": "code",
   "execution_count": 57,
   "id": "ec25c56d",
   "metadata": {},
   "outputs": [
    {
     "data": {
      "text/plain": [
       "array([[530,  56],\n",
       "       [104, 241]], dtype=int64)"
      ]
     },
     "execution_count": 57,
     "metadata": {},
     "output_type": "execute_result"
    }
   ],
   "source": [
    "confusion_matrix(y_test,y)"
   ]
  },
  {
   "cell_type": "code",
   "execution_count": 58,
   "id": "eaf37cdd",
   "metadata": {},
   "outputs": [
    {
     "name": "stdout",
     "output_type": "stream",
     "text": [
      "              precision    recall  f1-score   support\n",
      "\n",
      "           0       0.84      0.90      0.87       586\n",
      "           1       0.81      0.70      0.75       345\n",
      "\n",
      "    accuracy                           0.83       931\n",
      "   macro avg       0.82      0.80      0.81       931\n",
      "weighted avg       0.83      0.83      0.83       931\n",
      "\n"
     ]
    }
   ],
   "source": [
    "z=classification_report(y_test,y)\n",
    "print(z)"
   ]
  },
  {
   "cell_type": "markdown",
   "id": "35d4b720",
   "metadata": {},
   "source": [
    "# ACCURACY WHILE USING RANDOM FOREST CLASSIFIERIS  83"
   ]
  },
  {
   "cell_type": "markdown",
   "id": "9054b14b",
   "metadata": {},
   "source": [
    "# USING GRID SEARCHCV"
   ]
  },
  {
   "cell_type": "code",
   "execution_count": 59,
   "id": "9cca2043",
   "metadata": {},
   "outputs": [],
   "source": [
    "from sklearn.model_selection import GridSearchCV"
   ]
  },
  {
   "cell_type": "code",
   "execution_count": 60,
   "id": "deca8a7b",
   "metadata": {},
   "outputs": [
    {
     "name": "stdout",
     "output_type": "stream",
     "text": [
      "{'criterion': 'entropy', 'max_depth': 8, 'max_features': 'auto', 'n_estimators': 200}\n"
     ]
    },
    {
     "data": {
      "text/plain": [
       "0.8527722450746914"
      ]
     },
     "execution_count": 60,
     "metadata": {},
     "output_type": "execute_result"
    }
   ],
   "source": [
    "param_grid = { \n",
    "    'n_estimators': [200, 500],\n",
    "    'max_features': ['auto', 'sqrt', 'log2'],\n",
    "    'max_depth' : [4,5,6,7,8],\n",
    "    'criterion' :['gini', 'entropy']\n",
    "}\n",
    "\n",
    "grid_search_rfc = GridSearchCV(estimator=m, param_grid=param_grid, cv= 5)\n",
    "grid_search_rfc.fit(X_train, y_train)\n",
    "\n",
    "best_parameters_rfc= grid_search_rfc.best_params_\n",
    "print(best_parameters_rfc)\n",
    "\n",
    "grid_search_rfc.best_score_"
   ]
  },
  {
   "cell_type": "markdown",
   "id": "466de7b4",
   "metadata": {},
   "source": [
    "# ACCURACY AFTER USING GRID SEARCH IS 85"
   ]
  },
  {
   "cell_type": "markdown",
   "id": "5a386466",
   "metadata": {},
   "source": [
    "# 3.SUPPORT VECTOR MACHINE"
   ]
  },
  {
   "cell_type": "code",
   "execution_count": 61,
   "id": "f001e4e8",
   "metadata": {},
   "outputs": [],
   "source": [
    "from sklearn.svm import SVC\n"
   ]
  },
  {
   "cell_type": "code",
   "execution_count": 62,
   "id": "f117ba3e",
   "metadata": {},
   "outputs": [],
   "source": [
    "svm=SVC(probability=True)"
   ]
  },
  {
   "cell_type": "markdown",
   "id": "163530f3",
   "metadata": {},
   "source": [
    "# FITTING THE MODEL:"
   ]
  },
  {
   "cell_type": "code",
   "execution_count": 63,
   "id": "253a1876",
   "metadata": {},
   "outputs": [
    {
     "data": {
      "text/plain": [
       "SVC(probability=True)"
      ]
     },
     "execution_count": 63,
     "metadata": {},
     "output_type": "execute_result"
    }
   ],
   "source": [
    "svm.fit(X_train,y_train)"
   ]
  },
  {
   "cell_type": "code",
   "execution_count": 64,
   "id": "249e2f21",
   "metadata": {},
   "outputs": [],
   "source": [
    "sv=svm.predict(X_test)"
   ]
  },
  {
   "cell_type": "code",
   "execution_count": 65,
   "id": "41c5df08",
   "metadata": {},
   "outputs": [
    {
     "data": {
      "text/plain": [
       "array([[0.86349055, 0.13650945],\n",
       "       [0.8353233 , 0.1646767 ],\n",
       "       [0.83449448, 0.16550552],\n",
       "       ...,\n",
       "       [0.87171634, 0.12828366],\n",
       "       [0.84835711, 0.15164289],\n",
       "       [0.85784479, 0.14215521]])"
      ]
     },
     "execution_count": 65,
     "metadata": {},
     "output_type": "execute_result"
    }
   ],
   "source": [
    "svm.predict_proba(X_test)"
   ]
  },
  {
   "cell_type": "markdown",
   "id": "85d11150",
   "metadata": {},
   "source": [
    "# PERFORMANCE PREDICTION OF THE MODEL:"
   ]
  },
  {
   "cell_type": "code",
   "execution_count": 66,
   "id": "ca52e45d",
   "metadata": {},
   "outputs": [
    {
     "data": {
      "text/plain": [
       "0.8249194414607949"
      ]
     },
     "execution_count": 66,
     "metadata": {},
     "output_type": "execute_result"
    }
   ],
   "source": [
    "accuracy_score(y_test,sv)"
   ]
  },
  {
   "cell_type": "code",
   "execution_count": 67,
   "id": "eb642503",
   "metadata": {},
   "outputs": [
    {
     "data": {
      "text/plain": [
       "array([[562,  24],\n",
       "       [139, 206]], dtype=int64)"
      ]
     },
     "execution_count": 67,
     "metadata": {},
     "output_type": "execute_result"
    }
   ],
   "source": [
    "confusion_matrix(y_test,sv)"
   ]
  },
  {
   "cell_type": "code",
   "execution_count": 68,
   "id": "e6dbda0a",
   "metadata": {},
   "outputs": [
    {
     "name": "stdout",
     "output_type": "stream",
     "text": [
      "              precision    recall  f1-score   support\n",
      "\n",
      "           0       0.80      0.96      0.87       586\n",
      "           1       0.90      0.60      0.72       345\n",
      "\n",
      "    accuracy                           0.82       931\n",
      "   macro avg       0.85      0.78      0.79       931\n",
      "weighted avg       0.84      0.82      0.82       931\n",
      "\n"
     ]
    }
   ],
   "source": [
    "z=classification_report(y_test,sv)\n",
    "print(z)"
   ]
  },
  {
   "cell_type": "markdown",
   "id": "5f1c4442",
   "metadata": {},
   "source": [
    "# ACCURACY WHILE USING SUPPORT VECTOR MACHINE IS 63"
   ]
  },
  {
   "cell_type": "markdown",
   "id": "6d349392",
   "metadata": {},
   "source": [
    "# 4.KNEIGHBORS CLASSIFIERS"
   ]
  },
  {
   "cell_type": "code",
   "execution_count": 69,
   "id": "a2e4b333",
   "metadata": {},
   "outputs": [],
   "source": [
    "from sklearn.neighbors import KNeighborsClassifier"
   ]
  },
  {
   "cell_type": "code",
   "execution_count": 70,
   "id": "22241fa1",
   "metadata": {},
   "outputs": [],
   "source": [
    "kn=KNeighborsClassifier()"
   ]
  },
  {
   "cell_type": "markdown",
   "id": "a3504ab6",
   "metadata": {},
   "source": [
    "# FITTING THE MODEL:"
   ]
  },
  {
   "cell_type": "code",
   "execution_count": 71,
   "id": "85e0de67",
   "metadata": {},
   "outputs": [
    {
     "data": {
      "text/plain": [
       "KNeighborsClassifier()"
      ]
     },
     "execution_count": 71,
     "metadata": {},
     "output_type": "execute_result"
    }
   ],
   "source": [
    "kn.fit(X_train,y_train)\n"
   ]
  },
  {
   "cell_type": "code",
   "execution_count": 72,
   "id": "944f1b99",
   "metadata": {},
   "outputs": [],
   "source": [
    "h=kn.predict(X_test)"
   ]
  },
  {
   "cell_type": "code",
   "execution_count": 73,
   "id": "afcc7142",
   "metadata": {},
   "outputs": [
    {
     "data": {
      "text/plain": [
       "array([[1. , 0. ],\n",
       "       [0.8, 0.2],\n",
       "       [0.8, 0.2],\n",
       "       ...,\n",
       "       [0.8, 0.2],\n",
       "       [1. , 0. ],\n",
       "       [0.8, 0.2]])"
      ]
     },
     "execution_count": 73,
     "metadata": {},
     "output_type": "execute_result"
    }
   ],
   "source": [
    "kn.predict_proba(X_test)"
   ]
  },
  {
   "cell_type": "markdown",
   "id": "546629fd",
   "metadata": {},
   "source": [
    "# PERFORMANCE PREDICTION OF THE MODEL:"
   ]
  },
  {
   "cell_type": "code",
   "execution_count": 74,
   "id": "bf0f5379",
   "metadata": {},
   "outputs": [
    {
     "data": {
      "text/plain": [
       "0.790547798066595"
      ]
     },
     "execution_count": 74,
     "metadata": {},
     "output_type": "execute_result"
    }
   ],
   "source": [
    "accuracy_score(y_test,h)"
   ]
  },
  {
   "cell_type": "code",
   "execution_count": 75,
   "id": "4e32389d",
   "metadata": {},
   "outputs": [
    {
     "data": {
      "text/plain": [
       "0.8567974207415368"
      ]
     },
     "execution_count": 75,
     "metadata": {},
     "output_type": "execute_result"
    }
   ],
   "source": [
    "kn.score(X_train,y_train)"
   ]
  },
  {
   "cell_type": "code",
   "execution_count": 76,
   "id": "8823bd2e",
   "metadata": {},
   "outputs": [
    {
     "data": {
      "text/plain": [
       "array([[523,  63],\n",
       "       [132, 213]], dtype=int64)"
      ]
     },
     "execution_count": 76,
     "metadata": {},
     "output_type": "execute_result"
    }
   ],
   "source": [
    "confusion_matrix(y_test,h)"
   ]
  },
  {
   "cell_type": "code",
   "execution_count": 77,
   "id": "3df7a1f6",
   "metadata": {},
   "outputs": [
    {
     "name": "stdout",
     "output_type": "stream",
     "text": [
      "              precision    recall  f1-score   support\n",
      "\n",
      "           0       0.80      0.89      0.84       586\n",
      "           1       0.77      0.62      0.69       345\n",
      "\n",
      "    accuracy                           0.79       931\n",
      "   macro avg       0.79      0.75      0.76       931\n",
      "weighted avg       0.79      0.79      0.78       931\n",
      "\n"
     ]
    }
   ],
   "source": [
    "k=classification_report(y_test,h)\n",
    "print(k)"
   ]
  },
  {
   "cell_type": "markdown",
   "id": "4a9b1b87",
   "metadata": {},
   "source": [
    "# ACCURACY WHILE USING KNN IS 76"
   ]
  },
  {
   "cell_type": "markdown",
   "id": "bae978be",
   "metadata": {},
   "source": [
    "# 5.LOGISTIC REGRESSION"
   ]
  },
  {
   "cell_type": "code",
   "execution_count": 78,
   "id": "82aa17ba",
   "metadata": {},
   "outputs": [],
   "source": [
    "from sklearn.linear_model import LogisticRegression"
   ]
  },
  {
   "cell_type": "code",
   "execution_count": 79,
   "id": "0d6e98db",
   "metadata": {},
   "outputs": [],
   "source": [
    "lr=LogisticRegression()"
   ]
  },
  {
   "cell_type": "markdown",
   "id": "696c61cf",
   "metadata": {},
   "source": [
    "# FITTING THE MODEL:"
   ]
  },
  {
   "cell_type": "code",
   "execution_count": 80,
   "id": "3aeb7ea2",
   "metadata": {},
   "outputs": [
    {
     "data": {
      "text/plain": [
       "LogisticRegression()"
      ]
     },
     "execution_count": 80,
     "metadata": {},
     "output_type": "execute_result"
    }
   ],
   "source": [
    "lr.fit(X_train,y_train)\n"
   ]
  },
  {
   "cell_type": "code",
   "execution_count": 81,
   "id": "b4cf7edf",
   "metadata": {},
   "outputs": [],
   "source": [
    "l=lr.predict(X_test)"
   ]
  },
  {
   "cell_type": "code",
   "execution_count": 82,
   "id": "7d1b7d90",
   "metadata": {},
   "outputs": [
    {
     "data": {
      "text/plain": [
       "array([[0.75902217, 0.24097783],\n",
       "       [0.89076393, 0.10923607],\n",
       "       [0.90089198, 0.09910802],\n",
       "       ...,\n",
       "       [0.85342665, 0.14657335],\n",
       "       [0.72750667, 0.27249333],\n",
       "       [0.18417494, 0.81582506]])"
      ]
     },
     "execution_count": 82,
     "metadata": {},
     "output_type": "execute_result"
    }
   ],
   "source": [
    "lr.predict_proba(X_test)"
   ]
  },
  {
   "cell_type": "markdown",
   "id": "db7d12c6",
   "metadata": {},
   "source": [
    "# PERFORMANCE PREDICTION OF THE MODEL:"
   ]
  },
  {
   "cell_type": "code",
   "execution_count": 83,
   "id": "7095eb81",
   "metadata": {},
   "outputs": [
    {
     "data": {
      "text/plain": [
       "0.7099892588614393"
      ]
     },
     "execution_count": 83,
     "metadata": {},
     "output_type": "execute_result"
    }
   ],
   "source": [
    "accuracy_score(y_test,l)\n"
   ]
  },
  {
   "cell_type": "code",
   "execution_count": 84,
   "id": "a28d8184",
   "metadata": {},
   "outputs": [
    {
     "data": {
      "text/plain": [
       "array([[530,  56],\n",
       "       [214, 131]], dtype=int64)"
      ]
     },
     "execution_count": 84,
     "metadata": {},
     "output_type": "execute_result"
    }
   ],
   "source": [
    "confusion_matrix(y_test,l)"
   ]
  },
  {
   "cell_type": "code",
   "execution_count": 85,
   "id": "8064b5ab",
   "metadata": {},
   "outputs": [
    {
     "name": "stdout",
     "output_type": "stream",
     "text": [
      "              precision    recall  f1-score   support\n",
      "\n",
      "           0       0.71      0.90      0.80       586\n",
      "           1       0.70      0.38      0.49       345\n",
      "\n",
      "    accuracy                           0.71       931\n",
      "   macro avg       0.71      0.64      0.64       931\n",
      "weighted avg       0.71      0.71      0.68       931\n",
      "\n"
     ]
    }
   ],
   "source": [
    "j=classification_report(y_test,l)\n",
    "print(j)"
   ]
  },
  {
   "cell_type": "markdown",
   "id": "b881253e",
   "metadata": {},
   "source": [
    "# ACCURACY WHILE USING LOGISTIC REGRESSION 71\n"
   ]
  },
  {
   "cell_type": "markdown",
   "id": "7c32575b",
   "metadata": {},
   "source": [
    "# SHOWING THE IMPORTANCE OF EACH AND EVERY CATEGORIES:\n"
   ]
  },
  {
   "cell_type": "code",
   "execution_count": 86,
   "id": "93d309e8",
   "metadata": {},
   "outputs": [
    {
     "data": {
      "text/html": [
       "<div>\n",
       "<style scoped>\n",
       "    .dataframe tbody tr th:only-of-type {\n",
       "        vertical-align: middle;\n",
       "    }\n",
       "\n",
       "    .dataframe tbody tr th {\n",
       "        vertical-align: top;\n",
       "    }\n",
       "\n",
       "    .dataframe thead th {\n",
       "        text-align: right;\n",
       "    }\n",
       "</style>\n",
       "<table border=\"1\" class=\"dataframe\">\n",
       "  <thead>\n",
       "    <tr style=\"text-align: right;\">\n",
       "      <th></th>\n",
       "      <th>importance</th>\n",
       "    </tr>\n",
       "  </thead>\n",
       "  <tbody>\n",
       "    <tr>\n",
       "      <th>DurationInCompany</th>\n",
       "      <td>0.329872</td>\n",
       "    </tr>\n",
       "    <tr>\n",
       "      <th>Age</th>\n",
       "      <td>0.163018</td>\n",
       "    </tr>\n",
       "    <tr>\n",
       "      <th>Education</th>\n",
       "      <td>0.104988</td>\n",
       "    </tr>\n",
       "    <tr>\n",
       "      <th>PaymentTier</th>\n",
       "      <td>0.097914</td>\n",
       "    </tr>\n",
       "    <tr>\n",
       "      <th>Gender</th>\n",
       "      <td>0.089942</td>\n",
       "    </tr>\n",
       "    <tr>\n",
       "      <th>ExperienceInCurrentDomain</th>\n",
       "      <td>0.084737</td>\n",
       "    </tr>\n",
       "    <tr>\n",
       "      <th>Pune</th>\n",
       "      <td>0.081686</td>\n",
       "    </tr>\n",
       "    <tr>\n",
       "      <th>New Delhi</th>\n",
       "      <td>0.028566</td>\n",
       "    </tr>\n",
       "    <tr>\n",
       "      <th>EverBenched</th>\n",
       "      <td>0.019276</td>\n",
       "    </tr>\n",
       "  </tbody>\n",
       "</table>\n",
       "</div>"
      ],
      "text/plain": [
       "                           importance\n",
       "DurationInCompany            0.329872\n",
       "Age                          0.163018\n",
       "Education                    0.104988\n",
       "PaymentTier                  0.097914\n",
       "Gender                       0.089942\n",
       "ExperienceInCurrentDomain    0.084737\n",
       "Pune                         0.081686\n",
       "New Delhi                    0.028566\n",
       "EverBenched                  0.019276"
      ]
     },
     "execution_count": 86,
     "metadata": {},
     "output_type": "execute_result"
    }
   ],
   "source": [
    "feature_importances = m.feature_importances_\n",
    "feature_list = list(X)\n",
    "relative_importances = pd.DataFrame(index=feature_list, data=feature_importances, columns=[\"importance\"])\n",
    "relative_importances.sort_values(by=\"importance\", ascending=False)"
   ]
  },
  {
   "cell_type": "markdown",
   "id": "9e2698af",
   "metadata": {},
   "source": [
    "# CONCLUSION:"
   ]
  },
  {
   "cell_type": "markdown",
   "id": "f37d7cbf",
   "metadata": {},
   "source": [
    "# CATEGORIES THAT CONTRIBUTE THE MOST TO WHETHER THE EMPLOYEE IS GOINT TURNOVER:"
   ]
  },
  {
   "cell_type": "markdown",
   "id": "bfd2dba7",
   "metadata": {},
   "source": [
    "# 1.   DurationInCompany"
   ]
  },
  {
   "cell_type": "markdown",
   "id": "09227930",
   "metadata": {},
   "source": [
    "# 2.   PaymentTier"
   ]
  },
  {
   "cell_type": "markdown",
   "id": "0ffb26fd",
   "metadata": {},
   "source": [
    "# 3.   Office in Pune"
   ]
  },
  {
   "cell_type": "markdown",
   "id": "c3f4f400",
   "metadata": {},
   "source": [
    "# Graphical representation of conclusion"
   ]
  },
  {
   "cell_type": "code",
   "execution_count": 87,
   "id": "53809fce",
   "metadata": {},
   "outputs": [
    {
     "data": {
      "text/plain": [
       "<AxesSubplot:xlabel='Pune', ylabel='Attrition'>"
      ]
     },
     "execution_count": 87,
     "metadata": {},
     "output_type": "execute_result"
    },
    {
     "data": {
      "image/png": "[encoded data removed]",
      "text/plain": [
       "<Figure size 144x144 with 1 Axes>"
      ]
     },
     "metadata": {},
     "output_type": "display_data"
    }
   ],
   "source": [
    "sns.barplot(x=data['Pune'],y=data['Attrition'])"
   ]
  },
  {
   "cell_type": "code",
   "execution_count": 88,
   "id": "4b0ce51b",
   "metadata": {},
   "outputs": [
    {
     "data": {
      "text/plain": [
       "<AxesSubplot:xlabel='DurationInCompany', ylabel='Attrition'>"
      ]
     },
     "execution_count": 88,
     "metadata": {},
     "output_type": "execute_result"
    },
    {
     "data": {
      "image/png": "[encoded data removed]",
      "text/plain": [
       "<Figure size 144x144 with 1 Axes>"
      ]
     },
     "metadata": {},
     "output_type": "display_data"
    }
   ],
   "source": [
    "sns.barplot(x=data['DurationInCompany'],y=data['Attrition'])"
   ]
  },
  {
   "cell_type": "code",
   "execution_count": 89,
   "id": "9cf8c096",
   "metadata": {},
   "outputs": [
    {
     "data": {
      "text/plain": [
       "<AxesSubplot:xlabel='PaymentTier', ylabel='Attrition'>"
      ]
     },
     "execution_count": 89,
     "metadata": {},
     "output_type": "execute_result"
    },
    {
     "data": {
      "image/png": "[encoded data removed]",
      "text/plain": [
       "<Figure size 144x144 with 1 Axes>"
      ]
     },
     "metadata": {},
     "output_type": "display_data"
    }
   ],
   "source": [
    "sns.barplot(x=data['PaymentTier'],y=data['Attrition'])"
   ]
  },
  {
   "cell_type": "markdown",
   "id": "05208985",
   "metadata": {},
   "source": [
    "# HOW THE PROBLEM OF EMPLOYEE TURNOVER CAN BE RECTIFIED:"
   ]
  },
  {
   "cell_type": "markdown",
   "id": "cb2a8caa",
   "metadata": {},
   "source": [
    "# 1.The higher the payment rate"
   ]
  },
  {
   "cell_type": "markdown",
   "id": "0af88cdc",
   "metadata": {},
   "source": [
    "# 2.Higher the Duration in company"
   ]
  },
  {
   "cell_type": "markdown",
   "id": "4aa14c51",
   "metadata": {},
   "source": [
    "# 3.Comfortable environment for the employees"
   ]
  },
  {
   "cell_type": "markdown",
   "id": "494b1736",
   "metadata": {},
   "source": [
    "# MODEL"
   ]
  },
  {
   "cell_type": "markdown",
   "id": "2d7d948d",
   "metadata": {},
   "source": [
    "# Random Forest Classifier gives the highest accuracy for the model= 85"
   ]
  },
  {
   "cell_type": "markdown",
   "id": "36003d54",
   "metadata": {},
   "source": [
    "# INTEGRATING POWER BI VISUAL WITH PYTHON "
   ]
  },
  {
   "cell_type": "code",
   "execution_count": 90,
   "id": "af68b752",
   "metadata": {},
   "outputs": [
    {
     "name": "stdout",
     "output_type": "stream",
     "text": [
      "Requirement already satisfied: powerbiclient in c:\\users\\dell\\anaconda3\\lib\\site-packages (1.0.0)\n",
      "Requirement already satisfied: requests>=2.25.1 in c:\\users\\dell\\anaconda3\\lib\\site-packages (from powerbiclient) (2.26.0)\n",
      "Requirement already satisfied: jupyter-ui-poll>=0.1.2 in c:\\users\\dell\\anaconda3\\lib\\site-packages (from powerbiclient) (0.2.1)\n",
      "Requirement already satisfied: msal>=1.8.0 in c:\\users\\dell\\anaconda3\\lib\\site-packages (from powerbiclient) (1.18.0)\n",
      "Requirement already satisfied: ipywidgets>=7.0.0 in c:\\users\\dell\\anaconda3\\lib\\site-packages (from powerbiclient) (7.6.5)\n",
      "Requirement already satisfied: ipython>=4.0.0 in c:\\users\\dell\\anaconda3\\lib\\site-packages (from ipywidgets>=7.0.0->powerbiclient) (7.29.0)\n",
      "Requirement already satisfied: ipykernel>=4.5.1 in c:\\users\\dell\\anaconda3\\lib\\site-packages (from ipywidgets>=7.0.0->powerbiclient) (6.4.1)\n",
      "Requirement already satisfied: jupyterlab-widgets>=1.0.0 in c:\\users\\dell\\anaconda3\\lib\\site-packages (from ipywidgets>=7.0.0->powerbiclient) (1.0.0)\n",
      "Requirement already satisfied: nbformat>=4.2.0 in c:\\users\\dell\\anaconda3\\lib\\site-packages (from ipywidgets>=7.0.0->powerbiclient) (5.1.3)\n",
      "Requirement already satisfied: traitlets>=4.3.1 in c:\\users\\dell\\anaconda3\\lib\\site-packages (from ipywidgets>=7.0.0->powerbiclient) (5.1.0)\n",
      "Requirement already satisfied: ipython-genutils~=0.2.0 in c:\\users\\dell\\anaconda3\\lib\\site-packages (from ipywidgets>=7.0.0->powerbiclient) (0.2.0)\n",
      "Requirement already satisfied: widgetsnbextension~=3.5.0 in c:\\users\\dell\\anaconda3\\lib\\site-packages (from ipywidgets>=7.0.0->powerbiclient) (3.5.1)\n",
      "Requirement already satisfied: matplotlib-inline<0.2.0,>=0.1.0 in c:\\users\\dell\\anaconda3\\lib\\site-packages (from ipykernel>=4.5.1->ipywidgets>=7.0.0->powerbiclient) (0.1.2)\n",
      "Requirement already satisfied: jupyter-client<8.0 in c:\\users\\dell\\anaconda3\\lib\\site-packages (from ipykernel>=4.5.1->ipywidgets>=7.0.0->powerbiclient) (6.1.12)\n",
      "Requirement already satisfied: debugpy<2.0,>=1.0.0 in c:\\users\\dell\\anaconda3\\lib\\site-packages (from ipykernel>=4.5.1->ipywidgets>=7.0.0->powerbiclient) (1.4.1)\n",
      "Requirement already satisfied: tornado<7.0,>=4.2 in c:\\users\\dell\\anaconda3\\lib\\site-packages (from ipykernel>=4.5.1->ipywidgets>=7.0.0->powerbiclient) (6.1)\n",
      "Requirement already satisfied: backcall in c:\\users\\dell\\anaconda3\\lib\\site-packages (from ipython>=4.0.0->ipywidgets>=7.0.0->powerbiclient) (0.2.0)\n",
      "Requirement already satisfied: jedi>=0.16 in c:\\users\\dell\\anaconda3\\lib\\site-packages (from ipython>=4.0.0->ipywidgets>=7.0.0->powerbiclient) (0.18.0)\n",
      "Requirement already satisfied: setuptools>=18.5 in c:\\users\\dell\\anaconda3\\lib\\site-packages (from ipython>=4.0.0->ipywidgets>=7.0.0->powerbiclient) (58.0.4)\n",
      "Requirement already satisfied: prompt-toolkit!=3.0.0,!=3.0.1,<3.1.0,>=2.0.0 in c:\\users\\dell\\anaconda3\\lib\\site-packages (from ipython>=4.0.0->ipywidgets>=7.0.0->powerbiclient) (3.0.20)\n",
      "Requirement already satisfied: colorama in c:\\users\\dell\\anaconda3\\lib\\site-packages (from ipython>=4.0.0->ipywidgets>=7.0.0->powerbiclient) (0.4.4)\n",
      "Requirement already satisfied: pickleshare in c:\\users\\dell\\anaconda3\\lib\\site-packages (from ipython>=4.0.0->ipywidgets>=7.0.0->powerbiclient) (0.7.5)\n",
      "Requirement already satisfied: pygments in c:\\users\\dell\\anaconda3\\lib\\site-packages (from ipython>=4.0.0->ipywidgets>=7.0.0->powerbiclient) (2.10.0)\n",
      "Requirement already satisfied: decorator in c:\\users\\dell\\anaconda3\\lib\\site-packages (from ipython>=4.0.0->ipywidgets>=7.0.0->powerbiclient) (5.1.0)\n",
      "Requirement already satisfied: parso<0.9.0,>=0.8.0 in c:\\users\\dell\\anaconda3\\lib\\site-packages (from jedi>=0.16->ipython>=4.0.0->ipywidgets>=7.0.0->powerbiclient) (0.8.2)\n",
      "Requirement already satisfied: pyzmq>=13 in c:\\users\\dell\\anaconda3\\lib\\site-packages (from jupyter-client<8.0->ipykernel>=4.5.1->ipywidgets>=7.0.0->powerbiclient) (22.2.1)\n",
      "Requirement already satisfied: python-dateutil>=2.1 in c:\\users\\dell\\anaconda3\\lib\\site-packages (from jupyter-client<8.0->ipykernel>=4.5.1->ipywidgets>=7.0.0->powerbiclient) (2.8.2)\n",
      "Requirement already satisfied: jupyter-core>=4.6.0 in c:\\users\\dell\\anaconda3\\lib\\site-packages (from jupyter-client<8.0->ipykernel>=4.5.1->ipywidgets>=7.0.0->powerbiclient) (4.8.1)\n",
      "Requirement already satisfied: pywin32>=1.0 in c:\\users\\dell\\anaconda3\\lib\\site-packages (from jupyter-core>=4.6.0->jupyter-client<8.0->ipykernel>=4.5.1->ipywidgets>=7.0.0->powerbiclient) (228)\n",
      "Requirement already satisfied: cryptography<40,>=0.6 in c:\\users\\dell\\anaconda3\\lib\\site-packages (from msal>=1.8.0->powerbiclient) (3.4.8)\n",
      "Requirement already satisfied: PyJWT[crypto]<3,>=1.0.0 in c:\\users\\dell\\anaconda3\\lib\\site-packages (from msal>=1.8.0->powerbiclient) (2.1.0)\n",
      "Requirement already satisfied: cffi>=1.12 in c:\\users\\dell\\anaconda3\\lib\\site-packages (from cryptography<40,>=0.6->msal>=1.8.0->powerbiclient) (1.14.6)\n",
      "Requirement already satisfied: pycparser in c:\\users\\dell\\anaconda3\\lib\\site-packages (from cffi>=1.12->cryptography<40,>=0.6->msal>=1.8.0->powerbiclient) (2.20)\n",
      "Requirement already satisfied: jsonschema!=2.5.0,>=2.4 in c:\\users\\dell\\anaconda3\\lib\\site-packages (from nbformat>=4.2.0->ipywidgets>=7.0.0->powerbiclient) (3.2.0)\n",
      "Requirement already satisfied: six>=1.11.0 in c:\\users\\dell\\anaconda3\\lib\\site-packages (from jsonschema!=2.5.0,>=2.4->nbformat>=4.2.0->ipywidgets>=7.0.0->powerbiclient) (1.16.0)\n",
      "Requirement already satisfied: attrs>=17.4.0 in c:\\users\\dell\\anaconda3\\lib\\site-packages (from jsonschema!=2.5.0,>=2.4->nbformat>=4.2.0->ipywidgets>=7.0.0->powerbiclient) (21.2.0)\n",
      "Requirement already satisfied: pyrsistent>=0.14.0 in c:\\users\\dell\\anaconda3\\lib\\site-packages (from jsonschema!=2.5.0,>=2.4->nbformat>=4.2.0->ipywidgets>=7.0.0->powerbiclient) (0.18.0)\n",
      "Requirement already satisfied: wcwidth in c:\\users\\dell\\anaconda3\\lib\\site-packages (from prompt-toolkit!=3.0.0,!=3.0.1,<3.1.0,>=2.0.0->ipython>=4.0.0->ipywidgets>=7.0.0->powerbiclient) (0.2.5)\n",
      "Requirement already satisfied: charset-normalizer~=2.0.0 in c:\\users\\dell\\anaconda3\\lib\\site-packages (from requests>=2.25.1->powerbiclient) (2.0.4)\n",
      "Requirement already satisfied: certifi>=2017.4.17 in c:\\users\\dell\\anaconda3\\lib\\site-packages (from requests>=2.25.1->powerbiclient) (2021.10.8)\n",
      "Requirement already satisfied: urllib3<1.27,>=1.21.1 in c:\\users\\dell\\anaconda3\\lib\\site-packages (from requests>=2.25.1->powerbiclient) (1.26.7)\n",
      "Requirement already satisfied: idna<4,>=2.5 in c:\\users\\dell\\anaconda3\\lib\\site-packages (from requests>=2.25.1->powerbiclient) (3.2)\n",
      "Requirement already satisfied: notebook>=4.4.1 in c:\\users\\dell\\anaconda3\\lib\\site-packages (from widgetsnbextension~=3.5.0->ipywidgets>=7.0.0->powerbiclient) (6.4.5)\n",
      "Requirement already satisfied: Send2Trash>=1.5.0 in c:\\users\\dell\\anaconda3\\lib\\site-packages (from notebook>=4.4.1->widgetsnbextension~=3.5.0->ipywidgets>=7.0.0->powerbiclient) (1.8.0)\n",
      "Requirement already satisfied: nbconvert in c:\\users\\dell\\anaconda3\\lib\\site-packages (from notebook>=4.4.1->widgetsnbextension~=3.5.0->ipywidgets>=7.0.0->powerbiclient) (6.1.0)\n",
      "Requirement already satisfied: prometheus-client in c:\\users\\dell\\anaconda3\\lib\\site-packages (from notebook>=4.4.1->widgetsnbextension~=3.5.0->ipywidgets>=7.0.0->powerbiclient) (0.11.0)\n",
      "Requirement already satisfied: argon2-cffi in c:\\users\\dell\\anaconda3\\lib\\site-packages (from notebook>=4.4.1->widgetsnbextension~=3.5.0->ipywidgets>=7.0.0->powerbiclient) (20.1.0)\n",
      "Requirement already satisfied: jinja2 in c:\\users\\dell\\anaconda3\\lib\\site-packages (from notebook>=4.4.1->widgetsnbextension~=3.5.0->ipywidgets>=7.0.0->powerbiclient) (2.11.3)\n",
      "Requirement already satisfied: terminado>=0.8.3 in c:\\users\\dell\\anaconda3\\lib\\site-packages (from notebook>=4.4.1->widgetsnbextension~=3.5.0->ipywidgets>=7.0.0->powerbiclient) (0.9.4)\n",
      "Requirement already satisfied: pywinpty>=0.5 in c:\\users\\dell\\anaconda3\\lib\\site-packages (from terminado>=0.8.3->notebook>=4.4.1->widgetsnbextension~=3.5.0->ipywidgets>=7.0.0->powerbiclient) (0.5.7)\n",
      "Requirement already satisfied: MarkupSafe>=0.23 in c:\\users\\dell\\anaconda3\\lib\\site-packages (from jinja2->notebook>=4.4.1->widgetsnbextension~=3.5.0->ipywidgets>=7.0.0->powerbiclient) (1.1.1)\n",
      "Requirement already satisfied: mistune<2,>=0.8.1 in c:\\users\\dell\\anaconda3\\lib\\site-packages (from nbconvert->notebook>=4.4.1->widgetsnbextension~=3.5.0->ipywidgets>=7.0.0->powerbiclient) (0.8.4)\n",
      "Requirement already satisfied: nbclient<0.6.0,>=0.5.0 in c:\\users\\dell\\anaconda3\\lib\\site-packages (from nbconvert->notebook>=4.4.1->widgetsnbextension~=3.5.0->ipywidgets>=7.0.0->powerbiclient) (0.5.3)\n",
      "Requirement already satisfied: entrypoints>=0.2.2 in c:\\users\\dell\\anaconda3\\lib\\site-packages (from nbconvert->notebook>=4.4.1->widgetsnbextension~=3.5.0->ipywidgets>=7.0.0->powerbiclient) (0.3)\n",
      "Requirement already satisfied: defusedxml in c:\\users\\dell\\anaconda3\\lib\\site-packages (from nbconvert->notebook>=4.4.1->widgetsnbextension~=3.5.0->ipywidgets>=7.0.0->powerbiclient) (0.7.1)\n",
      "Requirement already satisfied: jupyterlab-pygments in c:\\users\\dell\\anaconda3\\lib\\site-packages (from nbconvert->notebook>=4.4.1->widgetsnbextension~=3.5.0->ipywidgets>=7.0.0->powerbiclient) (0.1.2)\n",
      "Requirement already satisfied: testpath in c:\\users\\dell\\anaconda3\\lib\\site-packages (from nbconvert->notebook>=4.4.1->widgetsnbextension~=3.5.0->ipywidgets>=7.0.0->powerbiclient) (0.5.0)\n",
      "Requirement already satisfied: bleach in c:\\users\\dell\\anaconda3\\lib\\site-packages (from nbconvert->notebook>=4.4.1->widgetsnbextension~=3.5.0->ipywidgets>=7.0.0->powerbiclient) (4.0.0)\n",
      "Requirement already satisfied: pandocfilters>=1.4.1 in c:\\users\\dell\\anaconda3\\lib\\site-packages (from nbconvert->notebook>=4.4.1->widgetsnbextension~=3.5.0->ipywidgets>=7.0.0->powerbiclient) (1.4.3)\n",
      "Requirement already satisfied: async-generator in c:\\users\\dell\\anaconda3\\lib\\site-packages (from nbclient<0.6.0,>=0.5.0->nbconvert->notebook>=4.4.1->widgetsnbextension~=3.5.0->ipywidgets>=7.0.0->powerbiclient) (1.10)\n",
      "Requirement already satisfied: nest-asyncio in c:\\users\\dell\\anaconda3\\lib\\site-packages (from nbclient<0.6.0,>=0.5.0->nbconvert->notebook>=4.4.1->widgetsnbextension~=3.5.0->ipywidgets>=7.0.0->powerbiclient) (1.5.1)\n",
      "Requirement already satisfied: packaging in c:\\users\\dell\\anaconda3\\lib\\site-packages (from bleach->nbconvert->notebook>=4.4.1->widgetsnbextension~=3.5.0->ipywidgets>=7.0.0->powerbiclient) (21.0)\n",
      "Requirement already satisfied: webencodings in c:\\users\\dell\\anaconda3\\lib\\site-packages (from bleach->nbconvert->notebook>=4.4.1->widgetsnbextension~=3.5.0->ipywidgets>=7.0.0->powerbiclient) (0.5.1)\n",
      "Requirement already satisfied: pyparsing>=2.0.2 in c:\\users\\dell\\anaconda3\\lib\\site-packages (from packaging->bleach->nbconvert->notebook>=4.4.1->widgetsnbextension~=3.5.0->ipywidgets>=7.0.0->powerbiclient) (3.0.4)\n"
     ]
    }
   ],
   "source": [
    "!pip install powerbiclient"
   ]
  },
  {
   "cell_type": "code",
   "execution_count": 91,
   "id": "d30ff190",
   "metadata": {},
   "outputs": [],
   "source": [
    "from powerbiclient import Report,models"
   ]
  },
  {
   "cell_type": "code",
   "execution_count": 92,
   "id": "5210f851",
   "metadata": {},
   "outputs": [],
   "source": [
    "import powerbiclient"
   ]
  },
  {
   "cell_type": "code",
   "execution_count": 94,
   "id": "c7fb68be",
   "metadata": {},
   "outputs": [
    {
     "name": "stdout",
     "output_type": "stream",
     "text": [
      "Performing interactive authentication. Please follow the instructions on the terminal.\n",
      " To sign in, use a web browser to open the page https://microsoft.com/devicelogin and enter the code I7SH65MRH to authenticate.\n",
      "You have logged in.\n",
      "Interactive authentication successfully completed.\n"
     ]
    }
   ],
   "source": [
    "from powerbiclient.authentication import DeviceCodeLoginAuthentication\n",
    "dva=DeviceCodeLoginAuthentication()"
   ]
  },
  {
   "cell_type": "code",
   "execution_count": 95,
   "id": "63ad75fd",
   "metadata": {},
   "outputs": [],
   "source": [
    "gid=\"ba46ff26-48cd-415b-b66b-92c66e048c88\""
   ]
  },
  {
   "cell_type": "code",
   "execution_count": 96,
   "id": "bbb246da",
   "metadata": {},
   "outputs": [],
   "source": [
    "rid=\"ba3a9c1a-7e3a-4f57-89c0-4e34c2624869\""
   ]
  },
  {
   "cell_type": "code",
   "execution_count": 97,
   "id": "6016758c",
   "metadata": {},
   "outputs": [],
   "source": [
    "report=Report(group_id=gid,report_id=rid, auth=dva)"
   ]
  },
  {
   "cell_type": "code",
   "execution_count": 98,
   "id": "6285a915",
   "metadata": {},
   "outputs": [
    {
     "data": {
      "application/vnd.jupyter.widget-view+json": {
       "model_id": "26dbad8938f949dc9ee03b0b549f630b",
       "version_major": 2,
       "version_minor": 0
      },
      "text/plain": [
       "Report()"
      ]
     },
     "metadata": {},
     "output_type": "display_data"
    }
   ],
   "source": [
    "report"
   ]
  },
  {
   "cell_type": "markdown",
   "id": "57479554",
   "metadata": {},
   "source": [
    "# POWER BI VISUALS OF THE MODEL"
   ]
  },
  {
   "cell_type": "code",
   "execution_count": null,
   "id": "c321879b",
   "metadata": {},
   "outputs": [],
   "source": []
  }
 ],
 "metadata": {
  "kernelspec": {
   "display_name": "Python 3 (ipykernel)",
   "language": "python",
   "name": "python3"
  },
  "language_info": {
   "codemirror_mode": {
    "name": "ipython",
    "version": 3
   },
   "file_extension": ".py",
   "mimetype": "text/x-python",
   "name": "python",
   "nbconvert_exporter": "python",
   "pygments_lexer": "ipython3",
   "version": "3.9.7"
  }
 },
 "nbformat": 4,
 "nbformat_minor": 5
}
